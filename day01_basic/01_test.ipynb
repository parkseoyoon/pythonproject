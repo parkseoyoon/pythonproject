{
 "cells": [
  {
   "cell_type": "code",
   "execution_count": 1,
   "id": "8e68523d",
   "metadata": {},
   "outputs": [
    {
     "name": "stdout",
     "output_type": "stream",
     "text": [
      "hello world!\n"
     ]
    }
   ],
   "source": [
    "print('hello world!')"
   ]
  },
  {
   "cell_type": "code",
   "execution_count": 2,
   "id": "89d57fb1",
   "metadata": {},
   "outputs": [
    {
     "name": "stdout",
     "output_type": "stream",
     "text": [
      "한글\n"
     ]
    }
   ],
   "source": [
    "print('한글')"
   ]
  },
  {
   "cell_type": "code",
   "execution_count": 3,
   "id": "e367379b-a9a2-45d2-860d-c373c6c74a7d",
   "metadata": {},
   "outputs": [],
   "source": [
    "a = 5\n",
    "if  a== 10:\n",
    "    print('10입니다')"
   ]
  },
  {
   "cell_type": "code",
   "execution_count": 4,
   "id": "7f6eedf5-373e-4994-81dd-38905916e21d",
   "metadata": {},
   "outputs": [
    {
     "data": {
      "text/plain": [
       "3"
      ]
     },
     "execution_count": 4,
     "metadata": {},
     "output_type": "execute_result"
    }
   ],
   "source": [
    "1+1+1"
   ]
  },
  {
   "cell_type": "code",
   "execution_count": 5,
   "id": "7f300a3f-77b9-4794-a496-5fdf30048235",
   "metadata": {},
   "outputs": [
    {
     "data": {
      "text/plain": [
       "2.0"
      ]
     },
     "execution_count": 5,
     "metadata": {},
     "output_type": "execute_result"
    }
   ],
   "source": [
    "1+1.0"
   ]
  },
  {
   "cell_type": "code",
   "execution_count": 6,
   "id": "d8bf2be5-baac-44f2-88b9-65c26b614eb7",
   "metadata": {},
   "outputs": [
    {
     "data": {
      "text/plain": [
       "2.0"
      ]
     },
     "execution_count": 6,
     "metadata": {},
     "output_type": "execute_result"
    }
   ],
   "source": [
    "4/2"
   ]
  },
  {
   "cell_type": "raw",
   "id": "653f6066-2cf5-4951-8568-4db0deafa9fd",
   "metadata": {},
   "source": [
    "//(몫), %(나머지), **(거듭제곱)"
   ]
  },
  {
   "cell_type": "raw",
   "id": "94e50fe8-018a-4835-9300-a18ba65a4962",
   "metadata": {},
   "source": [
    "# 제목"
   ]
  },
  {
   "cell_type": "raw",
   "id": "2c344cf6-b71a-4d4f-8171-423b5ededfae",
   "metadata": {},
   "source": [
    "[네이버](http://www.naver.com)"
   ]
  },
  {
   "cell_type": "raw",
   "id": "dfff9936-1b5d-4fe4-be7f-f683b1bea35a",
   "metadata": {},
   "source": [
    "![](img01.jpg)"
   ]
  },
  {
   "cell_type": "code",
   "execution_count": 8,
   "id": "585c4a3e-1f6e-4f22-89bb-2cbc5b855115",
   "metadata": {},
   "outputs": [
    {
     "name": "stdin",
     "output_type": "stream",
     "text": [
      "숫자를 입력하세요 >>>  2\n"
     ]
    }
   ],
   "source": [
    "a = input('숫자를 입력하세요 >>> ')"
   ]
  },
  {
   "cell_type": "code",
   "execution_count": 9,
   "id": "d25e7482-5aa8-45cc-8b08-7114bf22b8c7",
   "metadata": {
    "tags": []
   },
   "outputs": [
    {
     "ename": "SyntaxError",
     "evalue": "invalid syntax (Temp/ipykernel_3256/1771669374.py, line 1)",
     "output_type": "error",
     "traceback": [
      "\u001b[1;36m  File \u001b[1;32m\"C:\\Users\\Admin\\AppData\\Local\\Temp/ipykernel_3256/1771669374.py\"\u001b[1;36m, line \u001b[1;32m1\u001b[0m\n\u001b[1;33m    input? #input() 범위안에 커서 두고 tab+shift\u001b[0m\n\u001b[1;37m         ^\u001b[0m\n\u001b[1;31mSyntaxError\u001b[0m\u001b[1;31m:\u001b[0m invalid syntax\n"
     ]
    }
   ],
   "source": [
    "input? #input() 범위안에 커서 두고 tab+shift"
   ]
  },
  {
   "cell_type": "code",
   "execution_count": 10,
   "id": "b73417af-1aae-47c8-a2a8-d6631770e207",
   "metadata": {},
   "outputs": [
    {
     "data": {
      "text/plain": [
       "str"
      ]
     },
     "execution_count": 10,
     "metadata": {},
     "output_type": "execute_result"
    }
   ],
   "source": [
    "type(a)"
   ]
  },
  {
   "cell_type": "code",
   "execution_count": 11,
   "id": "cbab5d61-5dfd-45a2-a148-9c136159261b",
   "metadata": {},
   "outputs": [],
   "source": [
    "a = int(a)"
   ]
  },
  {
   "cell_type": "code",
   "execution_count": 12,
   "id": "d8a07c1f-4736-4036-9f71-b6ee02d88889",
   "metadata": {},
   "outputs": [
    {
     "data": {
      "text/plain": [
       "int"
      ]
     },
     "execution_count": 12,
     "metadata": {},
     "output_type": "execute_result"
    }
   ],
   "source": [
    "type(a)"
   ]
  },
  {
   "cell_type": "code",
   "execution_count": 13,
   "id": "66e55c69-e979-43ba-a1fb-9f6e666cdfb5",
   "metadata": {},
   "outputs": [
    {
     "data": {
      "text/plain": [
       "1.0"
      ]
     },
     "execution_count": 13,
     "metadata": {},
     "output_type": "execute_result"
    }
   ],
   "source": [
    "a/2"
   ]
  },
  {
   "cell_type": "code",
   "execution_count": 14,
   "id": "ac0a9c86-6b4d-46da-8148-aadf2f04a8b7",
   "metadata": {},
   "outputs": [
    {
     "data": {
      "text/plain": [
       "float"
      ]
     },
     "execution_count": 14,
     "metadata": {},
     "output_type": "execute_result"
    }
   ],
   "source": [
    "a = float(a)\n",
    "type(a)"
   ]
  },
  {
   "cell_type": "code",
   "execution_count": 15,
   "id": "8dfab0a1-2ff3-4369-84f0-79526450633c",
   "metadata": {},
   "outputs": [
    {
     "data": {
      "text/plain": [
       "str"
      ]
     },
     "execution_count": 15,
     "metadata": {},
     "output_type": "execute_result"
    }
   ],
   "source": [
    "a = str(a)\n",
    "type(a)"
   ]
  },
  {
   "cell_type": "code",
   "execution_count": 16,
   "id": "9450e116-bec3-4fbf-b22e-0add22f9a9e8",
   "metadata": {},
   "outputs": [
    {
     "name": "stdin",
     "output_type": "stream",
     "text": [
      "숫자를 입력하세요 20\n"
     ]
    },
    {
     "data": {
      "text/plain": [
       "str"
      ]
     },
     "execution_count": 16,
     "metadata": {},
     "output_type": "execute_result"
    }
   ],
   "source": [
    "b = input('숫자를 입력하세요')\n",
    "type(b)"
   ]
  },
  {
   "cell_type": "code",
   "execution_count": 17,
   "id": "356c0168-548e-413f-99a6-461b97ee62cd",
   "metadata": {},
   "outputs": [
    {
     "data": {
      "text/plain": [
       "20"
      ]
     },
     "execution_count": 17,
     "metadata": {},
     "output_type": "execute_result"
    }
   ],
   "source": [
    "int(b)"
   ]
  },
  {
   "cell_type": "code",
   "execution_count": 18,
   "id": "64b87168-6435-411f-ba81-734728fdc974",
   "metadata": {},
   "outputs": [
    {
     "data": {
      "text/plain": [
       "True"
      ]
     },
     "execution_count": 18,
     "metadata": {},
     "output_type": "execute_result"
    }
   ],
   "source": [
    "b.isdecimal()"
   ]
  },
  {
   "cell_type": "code",
   "execution_count": 19,
   "id": "ec67d119-6e81-462e-ad09-926d653702d3",
   "metadata": {},
   "outputs": [
    {
     "name": "stdout",
     "output_type": "stream",
     "text": [
      "참일 때 해야 될 일\n"
     ]
    }
   ],
   "source": [
    "if b.isdecimal() :\n",
    "    print('참일 때 해야 될 일')\n",
    "elif b.isalpha() :\n",
    "    print('문자일 때 할 일')\n",
    "else :\n",
    "    print('그 외 나머지')"
   ]
  },
  {
   "cell_type": "raw",
   "id": "35364b91-71be-4c2c-9920-c69a22ca8fed",
   "metadata": {},
   "source": [
    "박스당 과일을 넣어서 몇박스 몇개인지를 출력해주는 프로그램 작성\n",
    "- 조건체크 : 입력값이 숫자인지 여부 체크해서 진행\n",
    "- 입력 받을 값 : 박스당 과일 수, 전체 과일 수 \n",
    "- 출력 내용 : X박스 X개"
   ]
  },
  {
   "cell_type": "code",
   "execution_count": 21,
   "id": "2d704c12-5c59-48e5-98ec-8568b445e47f",
   "metadata": {},
   "outputs": [
    {
     "name": "stdin",
     "output_type": "stream",
     "text": [
      "박스당 과일 수 :  50\n",
      "전체 과일 수 :  197\n"
     ]
    },
    {
     "name": "stdout",
     "output_type": "stream",
     "text": [
      "50 개의 과일이 든 박스 3 개\n"
     ]
    }
   ],
   "source": [
    "a = input('박스당 과일 수 : ')\n",
    "b = input('전체 과일 수 : ')\n",
    "if a.isdecimal() and b.isdecimal() :\n",
    "    a = int(a)\n",
    "    b = int(b)\n",
    "    c = int(b/a)\n",
    "    print(a, '개의 과일이 든 박스', c, '개')\n",
    "else :\n",
    "    print('올바른 입력값이 아닙니다.')"
   ]
  },
  {
   "cell_type": "code",
   "execution_count": 22,
   "id": "d1aadafc-380b-445a-bfe6-c60fe8e8202b",
   "metadata": {},
   "outputs": [
    {
     "name": "stdin",
     "output_type": "stream",
     "text": [
      "박스당 과일의 개수 >>> 20\n",
      "전체 과일의 개수 >>> 696\n"
     ]
    },
    {
     "name": "stdout",
     "output_type": "stream",
     "text": [
      "34 박스  16 개\n"
     ]
    }
   ],
   "source": [
    "a1 = input('박스당 과일의 개수 >>>')\n",
    "a2 = input('전체 과일의 개수 >>>')\n",
    "if a1.isdecimal() and a2.isdecimal() :\n",
    "    a1, a2 = int(a1), int(a2)\n",
    "    box = a2//a1\n",
    "    count = a2%a1\n",
    "    print(box, '박스 ', count, '개')\n",
    "else :\n",
    "    print('입력값이 잘못되었습니다.')"
   ]
  },
  {
   "cell_type": "code",
   "execution_count": 23,
   "id": "3f487347-fd71-4f5f-bcec-061e957dc5bc",
   "metadata": {},
   "outputs": [
    {
     "data": {
      "text/plain": [
       "(2, 1)"
      ]
     },
     "execution_count": 23,
     "metadata": {},
     "output_type": "execute_result"
    }
   ],
   "source": [
    "divmod(5, 2) # (): tuple []: list {}: dictionary, set"
   ]
  },
  {
   "cell_type": "code",
   "execution_count": 24,
   "id": "08cb8ffa-cfa3-4999-969a-2ddcde56305c",
   "metadata": {},
   "outputs": [],
   "source": [
    "a = divmod(5, 2)"
   ]
  },
  {
   "cell_type": "code",
   "execution_count": 25,
   "id": "0aa860b4-8ccd-4299-a866-cc0cf6198910",
   "metadata": {},
   "outputs": [
    {
     "data": {
      "text/plain": [
       "(2, 1)"
      ]
     },
     "execution_count": 25,
     "metadata": {},
     "output_type": "execute_result"
    }
   ],
   "source": [
    "a"
   ]
  },
  {
   "cell_type": "code",
   "execution_count": 26,
   "id": "ce5292b0-fd47-48aa-85b2-9c370dcd2c52",
   "metadata": {},
   "outputs": [
    {
     "data": {
      "text/plain": [
       "2"
      ]
     },
     "execution_count": 26,
     "metadata": {},
     "output_type": "execute_result"
    }
   ],
   "source": [
    "a[0]"
   ]
  },
  {
   "cell_type": "code",
   "execution_count": 27,
   "id": "56ae8eb9-5697-4804-889a-4960e073007a",
   "metadata": {},
   "outputs": [
    {
     "data": {
      "text/plain": [
       "13"
      ]
     },
     "execution_count": 27,
     "metadata": {},
     "output_type": "execute_result"
    }
   ],
   "source": [
    "0b1101 #이진수 : 0b숫자"
   ]
  },
  {
   "cell_type": "code",
   "execution_count": 28,
   "id": "5bc8955b-9882-4db9-ad64-8c9c777bfc46",
   "metadata": {},
   "outputs": [
    {
     "data": {
      "text/plain": [
       "783"
      ]
     },
     "execution_count": 28,
     "metadata": {},
     "output_type": "execute_result"
    }
   ],
   "source": [
    "0o1417 #8진수 : 0o숫자(0~7)"
   ]
  },
  {
   "cell_type": "code",
   "execution_count": 29,
   "id": "7af68819-296e-408a-b6e8-82530697dd8c",
   "metadata": {},
   "outputs": [
    {
     "data": {
      "text/plain": [
       "40959"
      ]
     },
     "execution_count": 29,
     "metadata": {},
     "output_type": "execute_result"
    }
   ],
   "source": [
    "0x09fff #16진수 : 0x또는 0X 뒤에 숫자 0~9, 알파벳 A~F"
   ]
  },
  {
   "cell_type": "code",
   "execution_count": 30,
   "id": "5283443a-d578-4aa8-adf5-aaa3927774a1",
   "metadata": {},
   "outputs": [],
   "source": [
    "up7 = 'hhhh'"
   ]
  },
  {
   "cell_type": "code",
   "execution_count": 31,
   "id": "439001da-2506-4876-bb7c-9cd6b20d3ea6",
   "metadata": {},
   "outputs": [
    {
     "ename": "NameError",
     "evalue": "name 'up7' is not defined",
     "output_type": "error",
     "traceback": [
      "\u001b[1;31m---------------------------------------------------------------------------\u001b[0m",
      "\u001b[1;31mNameError\u001b[0m                                 Traceback (most recent call last)",
      "\u001b[1;32m~\\AppData\\Local\\Temp/ipykernel_3256/1945519223.py\u001b[0m in \u001b[0;36m<module>\u001b[1;34m\u001b[0m\n\u001b[0;32m      1\u001b[0m \u001b[1;32mdel\u001b[0m \u001b[0mup7\u001b[0m\u001b[1;33m\u001b[0m\u001b[1;33m\u001b[0m\u001b[0m\n\u001b[1;32m----> 2\u001b[1;33m \u001b[0mup7\u001b[0m\u001b[1;33m\u001b[0m\u001b[1;33m\u001b[0m\u001b[0m\n\u001b[0m",
      "\u001b[1;31mNameError\u001b[0m: name 'up7' is not defined"
     ]
    }
   ],
   "source": [
    "del up7\n",
    "up7"
   ]
  },
  {
   "cell_type": "code",
   "execution_count": 32,
   "id": "53d87467-1789-4da5-8c0e-eeaae5ae9ee2",
   "metadata": {},
   "outputs": [],
   "source": [
    "a = [1,2,3,4,5]"
   ]
  },
  {
   "cell_type": "code",
   "execution_count": 33,
   "id": "b944ddc2-88db-4c6f-a820-8cd8e87b23ab",
   "metadata": {},
   "outputs": [
    {
     "data": {
      "text/plain": [
       "list"
      ]
     },
     "execution_count": 33,
     "metadata": {},
     "output_type": "execute_result"
    }
   ],
   "source": [
    "type(a)"
   ]
  },
  {
   "cell_type": "code",
   "execution_count": 34,
   "id": "e3d53231-8d8f-4026-978f-e24cc5aa3e14",
   "metadata": {},
   "outputs": [
    {
     "data": {
      "text/plain": [
       "5"
      ]
     },
     "execution_count": 34,
     "metadata": {},
     "output_type": "execute_result"
    }
   ],
   "source": [
    "a[4]"
   ]
  },
  {
   "cell_type": "code",
   "execution_count": 35,
   "id": "dccad90c-aed0-4c11-bd6e-afe5fbb2d917",
   "metadata": {},
   "outputs": [],
   "source": [
    "del a[1]"
   ]
  },
  {
   "cell_type": "code",
   "execution_count": 36,
   "id": "a38d96d1-16b5-461f-9b77-24282086a37f",
   "metadata": {},
   "outputs": [
    {
     "data": {
      "text/plain": [
       "[1, 3, 4, 5]"
      ]
     },
     "execution_count": 36,
     "metadata": {},
     "output_type": "execute_result"
    }
   ],
   "source": [
    "a"
   ]
  },
  {
   "cell_type": "code",
   "execution_count": 37,
   "id": "580010a2-d008-4c77-bd9d-5d81044c6989",
   "metadata": {},
   "outputs": [
    {
     "data": {
      "text/plain": [
       "['안녕', '하세요']"
      ]
     },
     "execution_count": 37,
     "metadata": {},
     "output_type": "execute_result"
    }
   ],
   "source": [
    "'안녕 하세요'.split()"
   ]
  },
  {
   "cell_type": "code",
   "execution_count": 40,
   "id": "5c4d511f-62a7-4e19-80e0-cf07e7dba4c5",
   "metadata": {},
   "outputs": [
    {
     "data": {
      "text/plain": [
       "['안녕', '하세요']"
      ]
     },
     "execution_count": 40,
     "metadata": {},
     "output_type": "execute_result"
    }
   ],
   "source": [
    "a = '안녕 하세요'\n",
    "a.split()"
   ]
  },
  {
   "cell_type": "code",
   "execution_count": 41,
   "id": "228dc889-80ef-4cb7-bc77-e9cc3b745602",
   "metadata": {},
   "outputs": [
    {
     "name": "stdin",
     "output_type": "stream",
     "text": [
      " 안녕 하세요\n"
     ]
    },
    {
     "data": {
      "text/plain": [
       "['안녕', '하세요']"
      ]
     },
     "execution_count": 41,
     "metadata": {},
     "output_type": "execute_result"
    }
   ],
   "source": [
    "input().split()"
   ]
  },
  {
   "cell_type": "code",
   "execution_count": 42,
   "id": "f1516197-117b-4ca7-9d5e-c90cb05231c6",
   "metadata": {},
   "outputs": [
    {
     "name": "stdout",
     "output_type": "stream",
     "text": [
      "a b c\n"
     ]
    }
   ],
   "source": [
    "print('a', 'b', 'c')"
   ]
  },
  {
   "cell_type": "code",
   "execution_count": 43,
   "id": "eedb2b67-74ae-4945-b133-29248bd33ce6",
   "metadata": {},
   "outputs": [
    {
     "name": "stdout",
     "output_type": "stream",
     "text": [
      "a,b,cddd\n"
     ]
    }
   ],
   "source": [
    "print('a', 'b', 'c', sep=',', end='')#end=''로 줄 안바꾸고 같은 줄에 ddd. \n",
    "print('ddd')"
   ]
  },
  {
   "cell_type": "raw",
   "id": "ed6f936f-7143-4ba7-9534-f5fd80f29c2a",
   "metadata": {},
   "source": [
    "!=, ==, >=, <=, >, <"
   ]
  },
  {
   "cell_type": "code",
   "execution_count": 44,
   "id": "1b092f3e-9819-4e06-98d9-68349f6cf36d",
   "metadata": {},
   "outputs": [
    {
     "data": {
      "text/plain": [
       "True"
      ]
     },
     "execution_count": 44,
     "metadata": {},
     "output_type": "execute_result"
    }
   ],
   "source": [
    "a = 1\n",
    "b = 1.0\n",
    "a == b"
   ]
  },
  {
   "cell_type": "code",
   "execution_count": 45,
   "id": "ba8c30c0-58b6-48bf-ac51-473025effe4c",
   "metadata": {},
   "outputs": [
    {
     "data": {
      "text/plain": [
       "False"
      ]
     },
     "execution_count": 45,
     "metadata": {},
     "output_type": "execute_result"
    }
   ],
   "source": [
    "a is b"
   ]
  },
  {
   "cell_type": "code",
   "execution_count": 46,
   "id": "c5316438-6c07-45c9-aa8d-d533e9f50502",
   "metadata": {},
   "outputs": [
    {
     "data": {
      "text/plain": [
       "\"교실에서 '안녕!'이라고 인사하기\""
      ]
     },
     "execution_count": 46,
     "metadata": {},
     "output_type": "execute_result"
    }
   ],
   "source": [
    "\"교실에서 '안녕!'이라고 인사하기\""
   ]
  },
  {
   "cell_type": "code",
   "execution_count": 47,
   "id": "4266e00d-ea5a-4be8-8fc5-631777c3341e",
   "metadata": {},
   "outputs": [
    {
     "data": {
      "text/plain": [
       "'교실에서 \"안녕!\"이라고 인사하기'"
      ]
     },
     "execution_count": 47,
     "metadata": {},
     "output_type": "execute_result"
    }
   ],
   "source": [
    "'교실에서 \"안녕!\"이라고 인사하기'"
   ]
  },
  {
   "cell_type": "code",
   "execution_count": 48,
   "id": "4d406a89-d3a3-402a-b1e6-26ca3c180f16",
   "metadata": {},
   "outputs": [
    {
     "data": {
      "text/plain": [
       "'안녕\\n하세요\\n안녕!\\n'"
      ]
     },
     "execution_count": 48,
     "metadata": {},
     "output_type": "execute_result"
    }
   ],
   "source": [
    "'''안녕\n",
    "하세요\n",
    "안녕!\n",
    "'''"
   ]
  },
  {
   "cell_type": "code",
   "execution_count": 49,
   "id": "4361cd4b-b427-41e8-84f5-e0ec712549c1",
   "metadata": {},
   "outputs": [
    {
     "data": {
      "text/plain": [
       "'아\\n니\\n'"
      ]
     },
     "execution_count": 49,
     "metadata": {},
     "output_type": "execute_result"
    }
   ],
   "source": [
    "'아\\n니\\n'"
   ]
  },
  {
   "cell_type": "code",
   "execution_count": 50,
   "id": "39639b30-6e29-49cc-90ce-835c2a9be309",
   "metadata": {},
   "outputs": [
    {
     "data": {
      "text/plain": [
       "'i eat    3.12    apple. total 6'"
      ]
     },
     "execution_count": 50,
     "metadata": {},
     "output_type": "execute_result"
    }
   ],
   "source": [
    "'i eat {:^10.2f} apple. total {}'.format(3.1234567, 6) #기본: 오른쪽 정렬-> <넣으면 왼쪽 정렬, ^넣으면 중앙정렬"
   ]
  },
  {
   "cell_type": "code",
   "execution_count": 51,
   "id": "81583704-4077-4afd-a6fa-ae0d623439df",
   "metadata": {},
   "outputs": [
    {
     "data": {
      "text/plain": [
       "'i eat    3.12    apple. total 6'"
      ]
     },
     "execution_count": 51,
     "metadata": {},
     "output_type": "execute_result"
    }
   ],
   "source": [
    "value = 3.1234567\n",
    "'i eat {:^10.2f} apple. total {}'.format(value, 6)"
   ]
  },
  {
   "cell_type": "code",
   "execution_count": 52,
   "id": "94c0bafa-5b54-4a1f-8160-e0c3df8a81e5",
   "metadata": {},
   "outputs": [
    {
     "data": {
      "text/plain": [
       "'i eat    3.12    apple.'"
      ]
     },
     "execution_count": 52,
     "metadata": {},
     "output_type": "execute_result"
    }
   ],
   "source": [
    "f'i eat {value:^10.2f} apple.'"
   ]
  },
  {
   "cell_type": "code",
   "execution_count": 53,
   "id": "9022cf8a-0b85-4112-a680-0af89e71a942",
   "metadata": {},
   "outputs": [
    {
     "data": {
      "text/plain": [
       "'i eat 321,212.12 apple.'"
      ]
     },
     "execution_count": 53,
     "metadata": {},
     "output_type": "execute_result"
    }
   ],
   "source": [
    "value = 321212.1234567\n",
    "f'i eat {value:^10,.2f} apple.'"
   ]
  },
  {
   "cell_type": "code",
   "execution_count": 54,
   "id": "9ea1ec0b-a511-4340-9c68-56bb39d264a2",
   "metadata": {},
   "outputs": [],
   "source": [
    "a = \"Life is too short\""
   ]
  },
  {
   "cell_type": "code",
   "execution_count": 56,
   "id": "1115b1a4-09e2-4dc7-9f74-26c114f579c4",
   "metadata": {},
   "outputs": [
    {
     "data": {
      "text/plain": [
       "17"
      ]
     },
     "execution_count": 56,
     "metadata": {},
     "output_type": "execute_result"
    }
   ],
   "source": [
    "len(a) #공백포함"
   ]
  },
  {
   "cell_type": "code",
   "execution_count": 57,
   "id": "c991ffd2-cf37-4c9b-a635-904d05bde1bd",
   "metadata": {},
   "outputs": [],
   "source": [
    "a = \"Life is too short, You need Python\""
   ]
  },
  {
   "cell_type": "code",
   "execution_count": 58,
   "id": "56f45a3e-a1ba-411e-8157-045edf4262be",
   "metadata": {},
   "outputs": [
    {
     "data": {
      "text/plain": [
       "'s'"
      ]
     },
     "execution_count": 58,
     "metadata": {},
     "output_type": "execute_result"
    }
   ],
   "source": [
    "a[12]"
   ]
  },
  {
   "cell_type": "code",
   "execution_count": 60,
   "id": "40bd8f1f-5d72-4ea2-934c-d8cdd9b4752c",
   "metadata": {},
   "outputs": [
    {
     "data": {
      "text/plain": [
       "'n'"
      ]
     },
     "execution_count": 60,
     "metadata": {},
     "output_type": "execute_result"
    }
   ],
   "source": [
    "a[-1] #뒤에서 첫번째"
   ]
  },
  {
   "cell_type": "code",
   "execution_count": 62,
   "id": "5a5c78ed-d76d-4a17-80cc-d012f15688d8",
   "metadata": {},
   "outputs": [
    {
     "data": {
      "text/plain": [
       "'Life'"
      ]
     },
     "execution_count": 62,
     "metadata": {},
     "output_type": "execute_result"
    }
   ],
   "source": [
    "a[0:4] #[0]부터[3]까지"
   ]
  },
  {
   "cell_type": "code",
   "execution_count": 63,
   "id": "4abe59e4-b1cb-4f1a-b63c-82acb8831bd8",
   "metadata": {},
   "outputs": [
    {
     "data": {
      "text/plain": [
       "'hon'"
      ]
     },
     "execution_count": 63,
     "metadata": {},
     "output_type": "execute_result"
    }
   ],
   "source": [
    "a[-3:]"
   ]
  },
  {
   "cell_type": "code",
   "execution_count": 64,
   "id": "419195fa-c853-42a1-8bff-092c3de8441f",
   "metadata": {},
   "outputs": [
    {
     "name": "stdin",
     "output_type": "stream",
     "text": [
      "이메일을 입력하세요 sh.e\n"
     ]
    },
    {
     "data": {
      "text/plain": [
       "0"
      ]
     },
     "execution_count": 64,
     "metadata": {},
     "output_type": "execute_result"
    }
   ],
   "source": [
    "email = input('이메일을 입력하세요')\n",
    "count = email.count('@')\n",
    "count"
   ]
  },
  {
   "cell_type": "code",
   "execution_count": 66,
   "id": "f4d99478-b6af-4f08-a5a3-570c1e84db78",
   "metadata": {},
   "outputs": [
    {
     "data": {
      "text/plain": [
       "-1"
      ]
     },
     "execution_count": 66,
     "metadata": {},
     "output_type": "execute_result"
    }
   ],
   "source": [
    "a = \"Python is the best choice\"\n",
    "a.find('b')\n",
    "a.find('k') #k 없어서 -1"
   ]
  },
  {
   "cell_type": "code",
   "execution_count": 67,
   "id": "95c68f6d-1fd7-495d-a4cf-6854d4ad8f2c",
   "metadata": {},
   "outputs": [
    {
     "data": {
      "text/plain": [
       "8"
      ]
     },
     "execution_count": 67,
     "metadata": {},
     "output_type": "execute_result"
    }
   ],
   "source": [
    "a = \"Live is too short\"\n",
    "a.index('t')"
   ]
  },
  {
   "cell_type": "code",
   "execution_count": 69,
   "id": "1603236b-2cfe-43fc-8eaf-34fd895be732",
   "metadata": {},
   "outputs": [
    {
     "ename": "ValueError",
     "evalue": "substring not found",
     "output_type": "error",
     "traceback": [
      "\u001b[1;31m---------------------------------------------------------------------------\u001b[0m",
      "\u001b[1;31mValueError\u001b[0m                                Traceback (most recent call last)",
      "\u001b[1;32m~\\AppData\\Local\\Temp/ipykernel_3256/2751185059.py\u001b[0m in \u001b[0;36m<module>\u001b[1;34m\u001b[0m\n\u001b[1;32m----> 1\u001b[1;33m \u001b[0ma\u001b[0m\u001b[1;33m.\u001b[0m\u001b[0mindex\u001b[0m\u001b[1;33m(\u001b[0m\u001b[1;34m'k'\u001b[0m\u001b[1;33m)\u001b[0m \u001b[1;31m#index는 없으면 오류가 뜸\u001b[0m\u001b[1;33m\u001b[0m\u001b[1;33m\u001b[0m\u001b[0m\n\u001b[0m",
      "\u001b[1;31mValueError\u001b[0m: substring not found"
     ]
    }
   ],
   "source": [
    "a.index('k') #index는 없으면 오류가 뜸"
   ]
  },
  {
   "cell_type": "code",
   "execution_count": null,
   "id": "a54c7695-f665-456e-a882-0ac9344428d5",
   "metadata": {},
   "outputs": [],
   "source": []
  }
 ],
 "metadata": {
  "kernelspec": {
   "display_name": "Python 3 (ipykernel)",
   "language": "python",
   "name": "python3"
  },
  "language_info": {
   "codemirror_mode": {
    "name": "ipython",
    "version": 3
   },
   "file_extension": ".py",
   "mimetype": "text/x-python",
   "name": "python",
   "nbconvert_exporter": "python",
   "pygments_lexer": "ipython3",
   "version": "3.9.7"
  }
 },
 "nbformat": 4,
 "nbformat_minor": 5
}
