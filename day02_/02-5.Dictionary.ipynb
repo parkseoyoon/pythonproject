{
 "cells": [
  {
   "cell_type": "markdown",
   "id": "f83eab56-7e61-4528-9f9f-a3d303a86e8c",
   "metadata": {},
   "source": [
    "**딕셔너리**"
   ]
  },
  {
   "cell_type": "code",
   "execution_count": 29,
   "id": "794392fa-35ff-42e9-9abf-de52e1de327e",
   "metadata": {},
   "outputs": [],
   "source": [
    "dic = {'name':'pey', 'phone':'0119993323', 'birth': '1118'}"
   ]
  },
  {
   "cell_type": "code",
   "execution_count": 7,
   "id": "1e070ace-8c5f-44f8-b6cb-395bc4abe231",
   "metadata": {},
   "outputs": [
    {
     "data": {
      "text/plain": [
       "'pey'"
      ]
     },
     "execution_count": 7,
     "metadata": {},
     "output_type": "execute_result"
    }
   ],
   "source": [
    "dic['name']"
   ]
  },
  {
   "cell_type": "code",
   "execution_count": 8,
   "id": "b37c2096-b51d-46a3-957b-67fcd903fffa",
   "metadata": {},
   "outputs": [],
   "source": [
    "del dic['name']"
   ]
  },
  {
   "cell_type": "code",
   "execution_count": 9,
   "id": "8fee463e-408e-4b85-b718-92593d718a0a",
   "metadata": {},
   "outputs": [
    {
     "data": {
      "text/plain": [
       "{'phone': '0119993323', 'birth': '1118'}"
      ]
     },
     "execution_count": 9,
     "metadata": {},
     "output_type": "execute_result"
    }
   ],
   "source": [
    "dic"
   ]
  },
  {
   "cell_type": "code",
   "execution_count": 10,
   "id": "d6984c64-e328-4c1d-bbb7-21c58257111c",
   "metadata": {},
   "outputs": [],
   "source": [
    "dic['name'] = 'hello'"
   ]
  },
  {
   "cell_type": "code",
   "execution_count": 11,
   "id": "1af6df7a-6f08-45ef-b249-52f2eb6fff5e",
   "metadata": {},
   "outputs": [
    {
     "data": {
      "text/plain": [
       "{'phone': '0119993323', 'birth': '1118', 'name': 'hello'}"
      ]
     },
     "execution_count": 11,
     "metadata": {},
     "output_type": "execute_result"
    }
   ],
   "source": [
    "dic"
   ]
  },
  {
   "cell_type": "code",
   "execution_count": 12,
   "id": "d768f8c4-8960-40cb-ad35-813702678b5b",
   "metadata": {},
   "outputs": [],
   "source": [
    "dic['name'] = 'hello1'"
   ]
  },
  {
   "cell_type": "code",
   "execution_count": 14,
   "id": "1f89876c-dbe6-464a-945c-7583c19cdde6",
   "metadata": {},
   "outputs": [
    {
     "data": {
      "text/plain": [
       "{'phone': '0119993323', 'birth': '1118', 'name': 'hello1'}"
      ]
     },
     "execution_count": 14,
     "metadata": {},
     "output_type": "execute_result"
    }
   ],
   "source": [
    "dic #덮어씌워짐"
   ]
  },
  {
   "cell_type": "raw",
   "id": "bfd93588-d864-42dc-bbcb-f53a1d8d90a3",
   "metadata": {},
   "source": [
    "list는 key로 쓸 수 없지만 tuple은 가능\n",
    "why? key로 쓰려면 값이 변하면 안되기 때문\n",
    "key : 문자 or 정수\n",
    "tuple을 key로 자주 쓰진 않지만 쓸 수는 있음"
   ]
  },
  {
   "cell_type": "code",
   "execution_count": 17,
   "id": "0b82fada-121b-4110-ad98-41fc3ca241a0",
   "metadata": {},
   "outputs": [],
   "source": [
    "dic[(1,2)] = [2, 3, 4, 5] #tuple을 key로 사용해보기"
   ]
  },
  {
   "cell_type": "code",
   "execution_count": 16,
   "id": "a9023ff8-9fea-411b-a098-0d68e8296d2c",
   "metadata": {},
   "outputs": [
    {
     "data": {
      "text/plain": [
       "{'phone': '0119993323',\n",
       " 'birth': '1118',\n",
       " 'name': 'hello1',\n",
       " (1, 2): [2, 3, 4, 5]}"
      ]
     },
     "execution_count": 16,
     "metadata": {},
     "output_type": "execute_result"
    }
   ],
   "source": [
    "dic"
   ]
  },
  {
   "cell_type": "markdown",
   "id": "8e9ab1ec-7177-4fda-a9a8-c20805a5af04",
   "metadata": {},
   "source": [
    "딕셔너리 관련 함수들"
   ]
  },
  {
   "cell_type": "code",
   "execution_count": 20,
   "id": "44b7cdc8-59f5-48bd-a4f3-3e442f14f86c",
   "metadata": {},
   "outputs": [
    {
     "data": {
      "text/plain": [
       "dict_keys(['phone', 'birth', 'name', (1, 2)])"
      ]
     },
     "execution_count": 20,
     "metadata": {},
     "output_type": "execute_result"
    }
   ],
   "source": [
    "dic.keys() #key값만 뽑아서 사용하고 싶을 때"
   ]
  },
  {
   "cell_type": "code",
   "execution_count": 19,
   "id": "5b298fd4-8897-472a-b37a-ee0010d39405",
   "metadata": {},
   "outputs": [
    {
     "name": "stdout",
     "output_type": "stream",
     "text": [
      "0119993323\n",
      "1118\n",
      "hello1\n",
      "[2, 3, 4, 5]\n"
     ]
    }
   ],
   "source": [
    "for x in dic.keys():\n",
    "    print(dic[x])"
   ]
  },
  {
   "cell_type": "code",
   "execution_count": 22,
   "id": "c7694e21-1a5b-4303-b54f-ad42c56ee0a0",
   "metadata": {},
   "outputs": [
    {
     "data": {
      "text/plain": [
       "dict_values(['0119993323', '1118', 'hello1', [2, 3, 4, 5]])"
      ]
     },
     "execution_count": 22,
     "metadata": {},
     "output_type": "execute_result"
    }
   ],
   "source": [
    "dic.values() #value 값만 뽑아서 사용하고 싶을 때"
   ]
  },
  {
   "cell_type": "code",
   "execution_count": 24,
   "id": "e4a97e2b-891d-41f9-8f58-e72402d480ec",
   "metadata": {},
   "outputs": [
    {
     "data": {
      "text/plain": [
       "dict_items([('phone', '0119993323'), ('birth', '1118'), ('name', 'hello1'), ((1, 2), [2, 3, 4, 5])])"
      ]
     },
     "execution_count": 24,
     "metadata": {},
     "output_type": "execute_result"
    }
   ],
   "source": [
    "dic.items() #key,value를 tuple로 뽑아서 return"
   ]
  },
  {
   "cell_type": "code",
   "execution_count": 28,
   "id": "c2fb96f5-491a-46b3-98b9-0cbca5b2b125",
   "metadata": {},
   "outputs": [
    {
     "data": {
      "text/plain": [
       "{}"
      ]
     },
     "execution_count": 28,
     "metadata": {},
     "output_type": "execute_result"
    }
   ],
   "source": [
    "dic.clear() #key,value 값 모두 지우기\n",
    "dic"
   ]
  },
  {
   "cell_type": "code",
   "execution_count": 30,
   "id": "79b843c4-2276-4d68-9b63-87e0b936eef3",
   "metadata": {},
   "outputs": [],
   "source": [
    "dic = {'name':'pey', 'phone':'0119993323', 'birth': '1118'}"
   ]
  },
  {
   "cell_type": "code",
   "execution_count": 34,
   "id": "d81c81df-f8f8-46d1-8f4f-3bfc80698ec2",
   "metadata": {},
   "outputs": [],
   "source": [
    "dic.get('name1') #없는 key값이면 결과가 없음 default값 설정하면 default값을 불러옴"
   ]
  },
  {
   "cell_type": "code",
   "execution_count": 32,
   "id": "0759b2a0-eb54-422d-8f4b-6da971ee3722",
   "metadata": {},
   "outputs": [
    {
     "data": {
      "text/plain": [
       "'pey'"
      ]
     },
     "execution_count": 32,
     "metadata": {},
     "output_type": "execute_result"
    }
   ],
   "source": [
    "dic.get('name')"
   ]
  },
  {
   "cell_type": "code",
   "execution_count": 35,
   "id": "dfb5ad98-a110-4bdd-afb5-05e642164e79",
   "metadata": {},
   "outputs": [
    {
     "data": {
      "text/plain": [
       "{'name': 'pey', 'phone': '0119993323', 'birth': '1118'}"
      ]
     },
     "execution_count": 35,
     "metadata": {},
     "output_type": "execute_result"
    }
   ],
   "source": [
    "dic"
   ]
  },
  {
   "cell_type": "code",
   "execution_count": 37,
   "id": "51086621-5204-4e86-9d9a-e4ad61d1404d",
   "metadata": {},
   "outputs": [
    {
     "data": {
      "text/plain": [
       "True"
      ]
     },
     "execution_count": 37,
     "metadata": {},
     "output_type": "execute_result"
    }
   ],
   "source": [
    "'name' in dic #key값에 있는지 여부 확인"
   ]
  },
  {
   "cell_type": "code",
   "execution_count": 38,
   "id": "3b92e718-ea18-46bc-be00-212a04991410",
   "metadata": {},
   "outputs": [
    {
     "data": {
      "text/plain": [
       "False"
      ]
     },
     "execution_count": 38,
     "metadata": {},
     "output_type": "execute_result"
    }
   ],
   "source": [
    "'name' in dic.values() #value값에 있는지 여부 확인"
   ]
  },
  {
   "cell_type": "code",
   "execution_count": null,
   "id": "9018b18e-c289-4b14-bf90-0f0787f57cff",
   "metadata": {},
   "outputs": [],
   "source": []
  }
 ],
 "metadata": {
  "kernelspec": {
   "display_name": "Python 3 (ipykernel)",
   "language": "python",
   "name": "python3"
  },
  "language_info": {
   "codemirror_mode": {
    "name": "ipython",
    "version": 3
   },
   "file_extension": ".py",
   "mimetype": "text/x-python",
   "name": "python",
   "nbconvert_exporter": "python",
   "pygments_lexer": "ipython3",
   "version": "3.9.7"
  }
 },
 "nbformat": 4,
 "nbformat_minor": 5
}
