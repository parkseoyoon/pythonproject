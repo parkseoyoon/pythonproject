{
 "cells": [
  {
   "cell_type": "markdown",
   "id": "0f9ee2d3-1560-4ba2-b74a-b2f59aadbc5a",
   "metadata": {},
   "source": [
    "집합 자료형"
   ]
  },
  {
   "cell_type": "code",
   "execution_count": 2,
   "id": "2a0f99df-b68f-4e36-a663-4c62d348655f",
   "metadata": {},
   "outputs": [],
   "source": [
    "a = [1, 2, 3, 4, 2, 3, 4, 5]"
   ]
  },
  {
   "cell_type": "code",
   "execution_count": 6,
   "id": "7f6140f1-1356-4bdf-b3e3-110423d517f3",
   "metadata": {},
   "outputs": [],
   "source": [
    "s1 = set(a) # 중괄호 형태(딕셔너리), key값만 있다. = 중복이 안된다.\n",
    "#중복을 허용하지 않는다, 순서가 없다"
   ]
  },
  {
   "cell_type": "code",
   "execution_count": 4,
   "id": "5bf92182-7bc4-47dc-bac7-d7e5b646d75f",
   "metadata": {},
   "outputs": [
    {
     "data": {
      "text/plain": [
       "{1, 2, 3, 4, 5}"
      ]
     },
     "execution_count": 4,
     "metadata": {},
     "output_type": "execute_result"
    }
   ],
   "source": [
    "s1"
   ]
  },
  {
   "cell_type": "markdown",
   "id": "115f369b-1232-4478-a2ec-c9af677a5e1b",
   "metadata": {},
   "source": [
    "불 자료형 : True or False"
   ]
  },
  {
   "cell_type": "markdown",
   "id": "260eb487-a406-4e7d-9609-d03b9704c7f6",
   "metadata": {},
   "source": [
    "\"python\" T\n",
    "\"\" F\n",
    "[1,2,3] T\n",
    "[] F\n",
    "() F\n",
    "{} F\n",
    "1 T\n",
    "0 F\n",
    "None F"
   ]
  }
 ],
 "metadata": {
  "kernelspec": {
   "display_name": "Python 3 (ipykernel)",
   "language": "python",
   "name": "python3"
  },
  "language_info": {
   "codemirror_mode": {
    "name": "ipython",
    "version": 3
   },
   "file_extension": ".py",
   "mimetype": "text/x-python",
   "name": "python",
   "nbconvert_exporter": "python",
   "pygments_lexer": "ipython3",
   "version": "3.9.7"
  }
 },
 "nbformat": 4,
 "nbformat_minor": 5
}
