{
 "cells": [
  {
   "cell_type": "code",
   "execution_count": 16,
   "id": "83666c7f-abdf-4ec2-9a4a-ab95e278e995",
   "metadata": {},
   "outputs": [],
   "source": [
    "a = 'hello,hi,hi'"
   ]
  },
  {
   "cell_type": "code",
   "execution_count": 2,
   "id": "87a1fdb1-e784-4b47-8c3b-45172791ce9c",
   "metadata": {},
   "outputs": [
    {
     "data": {
      "text/plain": [
       "str"
      ]
     },
     "execution_count": 2,
     "metadata": {},
     "output_type": "execute_result"
    }
   ],
   "source": [
    "type(a)"
   ]
  },
  {
   "cell_type": "code",
   "execution_count": 17,
   "id": "2ec9b734-92d2-4555-8018-3d135047c044",
   "metadata": {},
   "outputs": [],
   "source": [
    "b = a.split(sep=',') #속성->값, 메서드->동작"
   ]
  },
  {
   "cell_type": "code",
   "execution_count": 18,
   "id": "761ed286-2dc5-4f7d-b1d0-1ed1eae6fded",
   "metadata": {},
   "outputs": [
    {
     "data": {
      "text/plain": [
       "['hello', 'hi', 'hi']"
      ]
     },
     "execution_count": 18,
     "metadata": {},
     "output_type": "execute_result"
    }
   ],
   "source": [
    "b"
   ]
  },
  {
   "cell_type": "code",
   "execution_count": 19,
   "id": "e7812ffd-d9d4-4d3b-a093-9e83c950245b",
   "metadata": {},
   "outputs": [
    {
     "data": {
      "text/plain": [
       "'hello, hi, hi'"
      ]
     },
     "execution_count": 19,
     "metadata": {},
     "output_type": "execute_result"
    }
   ],
   "source": [
    "', '.join(b)"
   ]
  },
  {
   "cell_type": "code",
   "execution_count": 20,
   "id": "de9d9591-acc2-4f57-be52-8baebfa3ea6d",
   "metadata": {},
   "outputs": [
    {
     "data": {
      "text/plain": [
       "'hello,hi,hi'"
      ]
     },
     "execution_count": 20,
     "metadata": {},
     "output_type": "execute_result"
    }
   ],
   "source": [
    "a"
   ]
  },
  {
   "cell_type": "code",
   "execution_count": 23,
   "id": "5787cd9a-2068-4497-85b4-8e992449c18a",
   "metadata": {},
   "outputs": [],
   "source": [
    "a1 = a.upper()"
   ]
  },
  {
   "cell_type": "code",
   "execution_count": 25,
   "id": "7fda0b9f-0b9e-4ee6-a7f2-04410bde3ca4",
   "metadata": {},
   "outputs": [
    {
     "data": {
      "text/plain": [
       "'hello,hi,hi'"
      ]
     },
     "execution_count": 25,
     "metadata": {},
     "output_type": "execute_result"
    }
   ],
   "source": [
    "a"
   ]
  },
  {
   "cell_type": "code",
   "execution_count": 26,
   "id": "8d6a5b00-c80d-47e5-ae90-53dcf18c6890",
   "metadata": {},
   "outputs": [
    {
     "data": {
      "text/plain": [
       "'HELLO,HI,HI'"
      ]
     },
     "execution_count": 26,
     "metadata": {},
     "output_type": "execute_result"
    }
   ],
   "source": [
    "a1"
   ]
  },
  {
   "cell_type": "code",
   "execution_count": 28,
   "id": "2c81cad2-e0ab-4050-af40-5b5b0d5e5f44",
   "metadata": {},
   "outputs": [
    {
     "data": {
      "text/plain": [
       "'hello,hi,hi'"
      ]
     },
     "execution_count": 28,
     "metadata": {},
     "output_type": "execute_result"
    }
   ],
   "source": [
    "a1.lower()"
   ]
  },
  {
   "cell_type": "code",
   "execution_count": 30,
   "id": "052fa089-9606-4a68-84d4-060c36ba507b",
   "metadata": {},
   "outputs": [
    {
     "data": {
      "text/plain": [
       "'Hello,hi,hi'"
      ]
     },
     "execution_count": 30,
     "metadata": {},
     "output_type": "execute_result"
    }
   ],
   "source": [
    "a1.capitalize() #첫글자만 대문자로 바꾸기"
   ]
  },
  {
   "cell_type": "code",
   "execution_count": 31,
   "id": "3a27afdf-4a38-4594-a9dd-24a5fc80bd6e",
   "metadata": {},
   "outputs": [],
   "source": [
    "a = ' hi '"
   ]
  },
  {
   "cell_type": "code",
   "execution_count": 32,
   "id": "559fd29f-c339-4793-8237-f4251c9bd8c9",
   "metadata": {},
   "outputs": [
    {
     "data": {
      "text/plain": [
       "'hi'"
      ]
     },
     "execution_count": 32,
     "metadata": {},
     "output_type": "execute_result"
    }
   ],
   "source": [
    "a.strip()"
   ]
  },
  {
   "cell_type": "code",
   "execution_count": 39,
   "id": "6fc8e7ab-99b2-44c4-8e79-a2abf7109a8a",
   "metadata": {},
   "outputs": [
    {
     "data": {
      "text/plain": [
       "'hi '"
      ]
     },
     "execution_count": 39,
     "metadata": {},
     "output_type": "execute_result"
    }
   ],
   "source": [
    "a.lstrip() #왼쪽 공백 지우기(문자열에서만 가능)"
   ]
  },
  {
   "cell_type": "code",
   "execution_count": 41,
   "id": "09f4dcd9-eee3-44b1-b3ef-b7a36518d7b0",
   "metadata": {},
   "outputs": [
    {
     "data": {
      "text/plain": [
       "' hi'"
      ]
     },
     "execution_count": 41,
     "metadata": {},
     "output_type": "execute_result"
    }
   ],
   "source": [
    "a.rstrip() #오른쪽 공백 지우기(문자열에서만 가능)"
   ]
  },
  {
   "cell_type": "code",
   "execution_count": 42,
   "id": "d0f2e6d7-ce1f-49ea-8625-952050ce00b1",
   "metadata": {},
   "outputs": [],
   "source": [
    "a = \"Life is too short\""
   ]
  },
  {
   "cell_type": "code",
   "execution_count": 43,
   "id": "9722095d-9298-4ec4-9292-17a8c189d915",
   "metadata": {},
   "outputs": [
    {
     "data": {
      "text/plain": [
       "'Life is  short'"
      ]
     },
     "execution_count": 43,
     "metadata": {},
     "output_type": "execute_result"
    }
   ],
   "source": [
    "a.replace('too', '')"
   ]
  },
  {
   "cell_type": "raw",
   "id": "86041d82-4c98-4a50-a5e9-2f2f9b54be6b",
   "metadata": {},
   "source": [
    "리스트&튜플 : 순서O -> indexing slicing 가능\n",
    "딕셔너리(K:V 키밸류)&집합(K 키) : 순서X -> 키(정수or문자열)로 구분\n"
   ]
  },
  {
   "cell_type": "code",
   "execution_count": 44,
   "id": "0641d3ce-07cb-47e1-96b3-361f33a0ec70",
   "metadata": {},
   "outputs": [],
   "source": [
    "e = [1, 2, ['Life', 'is']]"
   ]
  },
  {
   "cell_type": "code",
   "execution_count": 45,
   "id": "044fada4-d90e-4cf9-842a-cff601e1cbf5",
   "metadata": {},
   "outputs": [
    {
     "data": {
      "text/plain": [
       "list"
      ]
     },
     "execution_count": 45,
     "metadata": {},
     "output_type": "execute_result"
    }
   ],
   "source": [
    "type(e)"
   ]
  },
  {
   "cell_type": "code",
   "execution_count": 46,
   "id": "bc261f24-9afb-4c98-b1aa-11b1f7c0465e",
   "metadata": {},
   "outputs": [
    {
     "data": {
      "text/plain": [
       "['Life', 'is']"
      ]
     },
     "execution_count": 46,
     "metadata": {},
     "output_type": "execute_result"
    }
   ],
   "source": [
    "e[2]"
   ]
  },
  {
   "cell_type": "code",
   "execution_count": 47,
   "id": "efed03c4-011c-4450-a0e7-64df6add0022",
   "metadata": {},
   "outputs": [
    {
     "data": {
      "text/plain": [
       "'Life'"
      ]
     },
     "execution_count": 47,
     "metadata": {},
     "output_type": "execute_result"
    }
   ],
   "source": [
    "e[2][0]"
   ]
  },
  {
   "cell_type": "code",
   "execution_count": 49,
   "id": "44997903-3a64-44dd-80eb-09f630755702",
   "metadata": {},
   "outputs": [
    {
     "data": {
      "text/plain": [
       "'Life'"
      ]
     },
     "execution_count": 49,
     "metadata": {},
     "output_type": "execute_result"
    }
   ],
   "source": [
    "e[-1][-2]"
   ]
  },
  {
   "cell_type": "code",
   "execution_count": 54,
   "id": "31bdee43-09ce-4eba-a025-dbc57af96c14",
   "metadata": {},
   "outputs": [],
   "source": [
    "a = [1,2,3,[2,3,4]]\n",
    "b = [4,5,6]"
   ]
  },
  {
   "cell_type": "code",
   "execution_count": 55,
   "id": "77172fe4-fab9-48dd-8a7c-03f8a55581b4",
   "metadata": {},
   "outputs": [
    {
     "data": {
      "text/plain": [
       "[1, 2, 3, [2, 3, 4], 4, 5, 6]"
      ]
     },
     "execution_count": 55,
     "metadata": {},
     "output_type": "execute_result"
    }
   ],
   "source": [
    "a+b"
   ]
  },
  {
   "cell_type": "code",
   "execution_count": 56,
   "id": "4c8110a5-7614-44c7-ad6d-3742706fa413",
   "metadata": {},
   "outputs": [
    {
     "data": {
      "text/plain": [
       "[1, 2, 3, [2, 3, 4], 1, 2, 3, [2, 3, 4], 1, 2, 3, [2, 3, 4]]"
      ]
     },
     "execution_count": 56,
     "metadata": {},
     "output_type": "execute_result"
    }
   ],
   "source": [
    "a * 3"
   ]
  },
  {
   "cell_type": "code",
   "execution_count": 57,
   "id": "da27a5ef-3da8-4bbc-9b2f-28e42a9c8a3c",
   "metadata": {},
   "outputs": [
    {
     "data": {
      "text/plain": [
       "4"
      ]
     },
     "execution_count": 57,
     "metadata": {},
     "output_type": "execute_result"
    }
   ],
   "source": [
    "len(a)"
   ]
  },
  {
   "cell_type": "raw",
   "id": "72a5a904-01f4-4f82-bcdf-2a92aaf77a35",
   "metadata": {},
   "source": [
    "#xml과 json"
   ]
  },
  {
   "cell_type": "code",
   "execution_count": 59,
   "id": "537be463-5bf6-4959-bc66-ea495109fcf6",
   "metadata": {},
   "outputs": [],
   "source": [
    "a = [1,2,3]\n",
    "a[2] = 4"
   ]
  },
  {
   "cell_type": "code",
   "execution_count": 60,
   "id": "ccc157e8-d5ec-48f1-bbf0-7c74edd20289",
   "metadata": {},
   "outputs": [
    {
     "data": {
      "text/plain": [
       "[1, 2, 4]"
      ]
     },
     "execution_count": 60,
     "metadata": {},
     "output_type": "execute_result"
    }
   ],
   "source": [
    "a"
   ]
  },
  {
   "cell_type": "code",
   "execution_count": 61,
   "id": "7b411379-42d7-47e2-81ec-9738e7ff5b35",
   "metadata": {},
   "outputs": [],
   "source": [
    "del a[0]"
   ]
  },
  {
   "cell_type": "code",
   "execution_count": 62,
   "id": "7b5d73e2-16b4-475f-a2ff-853a40c0e184",
   "metadata": {},
   "outputs": [
    {
     "data": {
      "text/plain": [
       "[2, 4]"
      ]
     },
     "execution_count": 62,
     "metadata": {},
     "output_type": "execute_result"
    }
   ],
   "source": [
    "a"
   ]
  },
  {
   "cell_type": "code",
   "execution_count": 63,
   "id": "af751ff3-fde6-4ba4-b0ed-d080d3cac292",
   "metadata": {},
   "outputs": [
    {
     "data": {
      "text/plain": [
       "[1, 2, 3, 4]"
      ]
     },
     "execution_count": 63,
     "metadata": {},
     "output_type": "execute_result"
    }
   ],
   "source": [
    "a = [1,2,3]\n",
    "a.append(4)\n",
    "a"
   ]
  },
  {
   "cell_type": "code",
   "execution_count": 64,
   "id": "af8849a7-c092-4086-8fc1-24ed68c3cabb",
   "metadata": {},
   "outputs": [],
   "source": [
    "a.append([5,6]) #리스트로 집어넣기"
   ]
  },
  {
   "cell_type": "code",
   "execution_count": 65,
   "id": "aa1f1cb5-8c35-4ab2-af62-199fe7e8173d",
   "metadata": {},
   "outputs": [
    {
     "data": {
      "text/plain": [
       "[1, 2, 3, 4, [5, 6]]"
      ]
     },
     "execution_count": 65,
     "metadata": {},
     "output_type": "execute_result"
    }
   ],
   "source": [
    "a"
   ]
  },
  {
   "cell_type": "code",
   "execution_count": 66,
   "id": "b35bf030-fe9d-43cc-bd48-8bab44129b93",
   "metadata": {},
   "outputs": [],
   "source": [
    "a.extend([7,8]) #값으로 집어넣기"
   ]
  },
  {
   "cell_type": "code",
   "execution_count": 67,
   "id": "59857666-3fe3-481c-b703-c4b284cc83dc",
   "metadata": {},
   "outputs": [
    {
     "data": {
      "text/plain": [
       "[1, 2, 3, 4, [5, 6], 7, 8]"
      ]
     },
     "execution_count": 67,
     "metadata": {},
     "output_type": "execute_result"
    }
   ],
   "source": [
    "a"
   ]
  },
  {
   "cell_type": "code",
   "execution_count": 68,
   "id": "92bd7ac9-6bbf-479f-8757-0fcc04d340b5",
   "metadata": {},
   "outputs": [],
   "source": [
    "# sorted()"
   ]
  },
  {
   "cell_type": "code",
   "execution_count": 70,
   "id": "127bb2fb-e361-4877-aeec-b906dff95be8",
   "metadata": {},
   "outputs": [],
   "source": [
    "a = [4, 6, 2, 8, 1, 3]"
   ]
  },
  {
   "cell_type": "code",
   "execution_count": 73,
   "id": "3c24bc26-cdd0-4c81-a979-2d64d4cb0930",
   "metadata": {},
   "outputs": [],
   "source": [
    "a.sort(reverse=True)"
   ]
  },
  {
   "cell_type": "code",
   "execution_count": 74,
   "id": "71dee0a5-4cff-45f8-aced-32f6bfa1784a",
   "metadata": {},
   "outputs": [
    {
     "data": {
      "text/plain": [
       "[8, 6, 4, 3, 2, 1]"
      ]
     },
     "execution_count": 74,
     "metadata": {},
     "output_type": "execute_result"
    }
   ],
   "source": [
    "a"
   ]
  },
  {
   "cell_type": "code",
   "execution_count": 77,
   "id": "560c5c58-324f-4b3e-8025-3c015926af7b",
   "metadata": {},
   "outputs": [
    {
     "data": {
      "text/plain": [
       "[1, 2, 3, 4, 6, 8]"
      ]
     },
     "execution_count": 77,
     "metadata": {},
     "output_type": "execute_result"
    }
   ],
   "source": [
    "a.reverse() #정렬이랑 상관없이 단순히 뒤집어줌\n",
    "a"
   ]
  },
  {
   "cell_type": "code",
   "execution_count": 80,
   "id": "9b233122-ca0b-42f1-bcb6-160ff709decb",
   "metadata": {},
   "outputs": [
    {
     "data": {
      "text/plain": [
       "2"
      ]
     },
     "execution_count": 80,
     "metadata": {},
     "output_type": "execute_result"
    }
   ],
   "source": [
    "a.index(3)"
   ]
  },
  {
   "cell_type": "code",
   "execution_count": 81,
   "id": "f2b11e8c-bb31-4adc-b4c0-23d2ed5db607",
   "metadata": {},
   "outputs": [
    {
     "data": {
      "text/plain": [
       "[1, 2, 3, 4, 6, 8]"
      ]
     },
     "execution_count": 81,
     "metadata": {},
     "output_type": "execute_result"
    }
   ],
   "source": [
    "a"
   ]
  },
  {
   "cell_type": "code",
   "execution_count": 86,
   "id": "77054b5a-bd36-45a5-b68b-6a1fc0a3f314",
   "metadata": {},
   "outputs": [],
   "source": [
    "a.insert(3, 5)"
   ]
  },
  {
   "cell_type": "code",
   "execution_count": 87,
   "id": "4eff47ef-a8c3-4ba3-83cf-b7c11438a132",
   "metadata": {},
   "outputs": [
    {
     "data": {
      "text/plain": [
       "[1, 2, 4, 5, 5, 6, 8]"
      ]
     },
     "execution_count": 87,
     "metadata": {},
     "output_type": "execute_result"
    }
   ],
   "source": [
    "a"
   ]
  },
  {
   "cell_type": "code",
   "execution_count": 88,
   "id": "8a62d11a-184b-4686-92ab-4f01cc52f4af",
   "metadata": {},
   "outputs": [],
   "source": [
    "a.remove(5)"
   ]
  },
  {
   "cell_type": "code",
   "execution_count": 89,
   "id": "ff6e0221-3fe7-461f-832c-3c09c307a654",
   "metadata": {},
   "outputs": [
    {
     "data": {
      "text/plain": [
       "[1, 2, 4, 5, 6, 8]"
      ]
     },
     "execution_count": 89,
     "metadata": {},
     "output_type": "execute_result"
    }
   ],
   "source": [
    "a"
   ]
  },
  {
   "cell_type": "code",
   "execution_count": 104,
   "id": "771848f9-6b7b-4d17-8289-aac7bbb5d3d8",
   "metadata": {},
   "outputs": [],
   "source": [
    "a = [1,2,3] "
   ]
  },
  {
   "cell_type": "code",
   "execution_count": 105,
   "id": "3aff6e94-3cdd-4009-90d8-4650b198e23b",
   "metadata": {},
   "outputs": [
    {
     "data": {
      "text/plain": [
       "3"
      ]
     },
     "execution_count": 105,
     "metadata": {},
     "output_type": "execute_result"
    }
   ],
   "source": [
    "a.pop() #들어가는건 1번부터 들어감, 빠지는건 맨 뒤부터:stack 구조"
   ]
  },
  {
   "cell_type": "code",
   "execution_count": 106,
   "id": "88f2f075-ca06-41d7-bcc7-3992f497c239",
   "metadata": {},
   "outputs": [
    {
     "data": {
      "text/plain": [
       "2"
      ]
     },
     "execution_count": 106,
     "metadata": {},
     "output_type": "execute_result"
    }
   ],
   "source": [
    "a.pop()"
   ]
  },
  {
   "cell_type": "code",
   "execution_count": 107,
   "id": "14a8ea66-8829-4c06-9fd1-120fcfeddb9b",
   "metadata": {},
   "outputs": [
    {
     "data": {
      "text/plain": [
       "1"
      ]
     },
     "execution_count": 107,
     "metadata": {},
     "output_type": "execute_result"
    }
   ],
   "source": [
    "a.pop()"
   ]
  },
  {
   "cell_type": "code",
   "execution_count": 101,
   "id": "389fa415-1c17-4986-bce5-43b32d8144ac",
   "metadata": {},
   "outputs": [
    {
     "data": {
      "text/plain": [
       "0"
      ]
     },
     "execution_count": 101,
     "metadata": {},
     "output_type": "execute_result"
    }
   ],
   "source": [
    "a.count(1)"
   ]
  },
  {
   "cell_type": "code",
   "execution_count": 108,
   "id": "2402ac8d-845e-419c-a0f2-98247fa7574c",
   "metadata": {},
   "outputs": [],
   "source": [
    "t4 = 1, 2, 3"
   ]
  },
  {
   "cell_type": "code",
   "execution_count": 109,
   "id": "e4565a52-8543-472e-bbd0-1031c773f16e",
   "metadata": {},
   "outputs": [
    {
     "data": {
      "text/plain": [
       "(1, 2, 3)"
      ]
     },
     "execution_count": 109,
     "metadata": {},
     "output_type": "execute_result"
    }
   ],
   "source": [
    "t4"
   ]
  },
  {
   "cell_type": "code",
   "execution_count": 117,
   "id": "cfb357d0-834c-4136-ba8b-bc76fb32e86f",
   "metadata": {},
   "outputs": [],
   "source": [
    "t1 = (1, 2, 'a', 'b')"
   ]
  },
  {
   "cell_type": "code",
   "execution_count": 118,
   "id": "9f3d2e8b-aae8-4cc8-896a-5144116e045d",
   "metadata": {},
   "outputs": [
    {
     "ename": "TypeError",
     "evalue": "'tuple' object doesn't support item deletion",
     "output_type": "error",
     "traceback": [
      "\u001b[1;31m---------------------------------------------------------------------------\u001b[0m",
      "\u001b[1;31mTypeError\u001b[0m                                 Traceback (most recent call last)",
      "\u001b[1;32m~\\AppData\\Local\\Temp/ipykernel_9564/4065522085.py\u001b[0m in \u001b[0;36m<module>\u001b[1;34m\u001b[0m\n\u001b[1;32m----> 1\u001b[1;33m \u001b[1;32mdel\u001b[0m \u001b[0mt1\u001b[0m\u001b[1;33m[\u001b[0m\u001b[1;36m0\u001b[0m\u001b[1;33m]\u001b[0m \u001b[1;31m#tuple은 부분수정, 삭제, 생성을 할 수 없다.\u001b[0m\u001b[1;33m\u001b[0m\u001b[1;33m\u001b[0m\u001b[0m\n\u001b[0m",
      "\u001b[1;31mTypeError\u001b[0m: 'tuple' object doesn't support item deletion"
     ]
    }
   ],
   "source": [
    "del t1[0] #tuple은 부분수정, 삭제, 생성을 할 수 없다."
   ]
  },
  {
   "cell_type": "code",
   "execution_count": 119,
   "id": "fed356d3-f53d-4939-9bb5-a38c22c43bc2",
   "metadata": {},
   "outputs": [
    {
     "ename": "TypeError",
     "evalue": "'tuple' object does not support item assignment",
     "output_type": "error",
     "traceback": [
      "\u001b[1;31m---------------------------------------------------------------------------\u001b[0m",
      "\u001b[1;31mTypeError\u001b[0m                                 Traceback (most recent call last)",
      "\u001b[1;32m~\\AppData\\Local\\Temp/ipykernel_9564/855147871.py\u001b[0m in \u001b[0;36m<module>\u001b[1;34m\u001b[0m\n\u001b[1;32m----> 1\u001b[1;33m \u001b[0mt1\u001b[0m\u001b[1;33m[\u001b[0m\u001b[1;36m0\u001b[0m\u001b[1;33m]\u001b[0m \u001b[1;33m=\u001b[0m \u001b[1;36m4\u001b[0m\u001b[1;33m\u001b[0m\u001b[1;33m\u001b[0m\u001b[0m\n\u001b[0m",
      "\u001b[1;31mTypeError\u001b[0m: 'tuple' object does not support item assignment"
     ]
    }
   ],
   "source": [
    "t1[0] = 4"
   ]
  },
  {
   "cell_type": "code",
   "execution_count": 120,
   "id": "b1aa339f-8005-41dd-bde8-9709acbc79aa",
   "metadata": {},
   "outputs": [],
   "source": [
    "del t1 #전체 제거는 가능"
   ]
  },
  {
   "cell_type": "code",
   "execution_count": 121,
   "id": "10315626-3e31-4361-bf79-0003e6b0ee2f",
   "metadata": {},
   "outputs": [],
   "source": [
    "t1 = 1, 2, 'a', 'b'"
   ]
  },
  {
   "cell_type": "code",
   "execution_count": null,
   "id": "28e00b49-9b9e-4b0f-9f2d-8d054b46f906",
   "metadata": {},
   "outputs": [],
   "source": []
  }
 ],
 "metadata": {
  "kernelspec": {
   "display_name": "Python 3 (ipykernel)",
   "language": "python",
   "name": "python3"
  },
  "language_info": {
   "codemirror_mode": {
    "name": "ipython",
    "version": 3
   },
   "file_extension": ".py",
   "mimetype": "text/x-python",
   "name": "python",
   "nbconvert_exporter": "python",
   "pygments_lexer": "ipython3",
   "version": "3.9.7"
  }
 },
 "nbformat": 4,
 "nbformat_minor": 5
}
