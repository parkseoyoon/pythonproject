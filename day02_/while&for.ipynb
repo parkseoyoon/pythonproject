{
 "cells": [
  {
   "cell_type": "markdown",
   "id": "1b8d8f42-d2a4-4607-b647-36debfdc5f8d",
   "metadata": {},
   "source": [
    "while(조건을 만족하는 동안 반복)\n",
    "for(횟수만큼 반복)"
   ]
  },
  {
   "cell_type": "code",
   "execution_count": 1,
   "id": "c9c4a0ad-597b-47b1-80dd-db4ba2937494",
   "metadata": {
    "collapsed": true,
    "jupyter": {
     "outputs_hidden": true
    },
    "tags": []
   },
   "outputs": [
    {
     "name": "stdout",
     "output_type": "stream",
     "text": [
      "1\n",
      "2\n",
      "3\n",
      "4\n",
      "5\n"
     ]
    }
   ],
   "source": [
    "for i in [1,2,3,4,5]:\n",
    "    print(i)"
   ]
  },
  {
   "cell_type": "code",
   "execution_count": 2,
   "id": "72a261c0-4766-4a3b-9b58-e43dba4120e7",
   "metadata": {
    "collapsed": true,
    "jupyter": {
     "outputs_hidden": true
    },
    "tags": []
   },
   "outputs": [
    {
     "name": "stdout",
     "output_type": "stream",
     "text": [
      "0\n",
      "1\n",
      "2\n",
      "3\n",
      "4\n",
      "5\n",
      "6\n",
      "7\n",
      "8\n",
      "9\n",
      "10\n",
      "11\n",
      "12\n",
      "13\n",
      "14\n",
      "15\n",
      "16\n",
      "17\n",
      "18\n",
      "19\n"
     ]
    }
   ],
   "source": [
    "for i in range(20):\n",
    "    print(i)"
   ]
  },
  {
   "cell_type": "code",
   "execution_count": 4,
   "id": "e3f962d2-4e27-4409-9a19-adb533eb4b6b",
   "metadata": {},
   "outputs": [
    {
     "name": "stdout",
     "output_type": "stream",
     "text": [
      "0 a\n",
      "1 b\n",
      "2 c\n"
     ]
    }
   ],
   "source": [
    "for i,data in enumerate(['a','b','c']):\n",
    "    print(i,data)\n",
    "#index값과 data값"
   ]
  },
  {
   "cell_type": "markdown",
   "id": "be7ed1af-cda0-417f-a83c-cfa0685191c5",
   "metadata": {},
   "source": [
    "continue : 뒤에 과정 안하고 반복으로 넘어가기\n",
    "break : 반복문 종료"
   ]
  },
  {
   "cell_type": "code",
   "execution_count": 7,
   "id": "788e5a54-b46f-4cf2-9106-a23187262079",
   "metadata": {},
   "outputs": [
    {
     "name": "stdout",
     "output_type": "stream",
     "text": [
      "[3, 6, 9, 12]\n"
     ]
    }
   ],
   "source": [
    "a = [1,2,3,4]\n",
    "result = [num * 3 for num in a] #줄여쓰기\n",
    "print(result)"
   ]
  },
  {
   "cell_type": "code",
   "execution_count": null,
   "id": "d8a60807-bc2a-4c03-b250-1b977d333cf4",
   "metadata": {},
   "outputs": [],
   "source": []
  }
 ],
 "metadata": {
  "kernelspec": {
   "display_name": "Python 3 (ipykernel)",
   "language": "python",
   "name": "python3"
  },
  "language_info": {
   "codemirror_mode": {
    "name": "ipython",
    "version": 3
   },
   "file_extension": ".py",
   "mimetype": "text/x-python",
   "name": "python",
   "nbconvert_exporter": "python",
   "pygments_lexer": "ipython3",
   "version": "3.9.7"
  }
 },
 "nbformat": 4,
 "nbformat_minor": 5
}
