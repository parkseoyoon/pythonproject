{
 "cells": [
  {
   "cell_type": "raw",
   "id": "909e3d20-0f98-4b84-95af-139b20a58843",
   "metadata": {},
   "source": [
    "quiz 01>\n",
    "주민등록번호 14자리를 입력받아서 성별을 체크합니다.\n",
    "프로그램 종료는 (q,Q)를 누를 때까지 반복체크합니다.\n",
    "입력예: 123456-1234567\n",
    "조건처리: - 길이값 체크\n",
    "         - 성별 체크(가능값:1,2,3,4)\n",
    "출력: 여성입니다. or 남성입니다."
   ]
  },
  {
   "cell_type": "code",
   "execution_count": 26,
   "id": "38f4b976-bfb3-4599-9615-2aaa948ee389",
   "metadata": {},
   "outputs": [
    {
     "name": "stdin",
     "output_type": "stream",
     "text": [
      "주민등록번호를 입력하세요 :  980220-2754628\n"
     ]
    },
    {
     "name": "stdout",
     "output_type": "stream",
     "text": [
      "여성입니다.\n"
     ]
    },
    {
     "name": "stdin",
     "output_type": "stream",
     "text": [
      "주민등록번호를 입력하세요 :  885556-423689\n"
     ]
    },
    {
     "name": "stdout",
     "output_type": "stream",
     "text": [
      "여성입니다.\n"
     ]
    },
    {
     "name": "stdin",
     "output_type": "stream",
     "text": [
      "주민등록번호를 입력하세요 :  55568-355654\n"
     ]
    },
    {
     "name": "stdout",
     "output_type": "stream",
     "text": [
      "주민등록번호가 잘못 입력되었습니다.\n"
     ]
    },
    {
     "name": "stdin",
     "output_type": "stream",
     "text": [
      "주민등록번호를 입력하세요 :  556548-123468\n"
     ]
    },
    {
     "name": "stdout",
     "output_type": "stream",
     "text": [
      "남성입니다.\n"
     ]
    },
    {
     "name": "stdin",
     "output_type": "stream",
     "text": [
      "주민등록번호를 입력하세요 :  Q\n"
     ]
    }
   ],
   "source": [
    "while num:\n",
    "    num = input('주민등록번호를 입력하세요 : ')\n",
    "    if num in ['q', 'Q']:\n",
    "        break\n",
    "    elif int(num[7]) in [1, 3]:\n",
    "        print('남성입니다.')\n",
    "    elif int(num[7]) in [2, 4]:\n",
    "        print('여성입니다.')\n",
    "    else :\n",
    "        print('주민등록번호가 잘못 입력되었습니다.')"
   ]
  },
  {
   "cell_type": "code",
   "execution_count": 28,
   "id": "85e1626d-3fae-4058-9033-f9ed303b1e17",
   "metadata": {},
   "outputs": [
    {
     "name": "stdin",
     "output_type": "stream",
     "text": [
      "주민등록번호 입력(14자리, 종료:q,Q) >>>  123456-1234567\n"
     ]
    },
    {
     "name": "stdout",
     "output_type": "stream",
     "text": [
      "남성입니다.\n"
     ]
    },
    {
     "name": "stdin",
     "output_type": "stream",
     "text": [
      "주민등록번호 입력(14자리, 종료:q,Q) >>>  12346-2456789\n"
     ]
    },
    {
     "name": "stdout",
     "output_type": "stream",
     "text": [
      "입력 문자의 길이가 안맞거나, 성별값의 범위가 아닙니다.\n"
     ]
    },
    {
     "name": "stdin",
     "output_type": "stream",
     "text": [
      "주민등록번호 입력(14자리, 종료:q,Q) >>>  123456-265958\n"
     ]
    },
    {
     "name": "stdout",
     "output_type": "stream",
     "text": [
      "입력 문자의 길이가 안맞거나, 성별값의 범위가 아닙니다.\n"
     ]
    },
    {
     "name": "stdin",
     "output_type": "stream",
     "text": [
      "주민등록번호 입력(14자리, 종료:q,Q) >>>  123456-2369876\n"
     ]
    },
    {
     "name": "stdout",
     "output_type": "stream",
     "text": [
      "여성입니다.\n"
     ]
    },
    {
     "name": "stdin",
     "output_type": "stream",
     "text": [
      "주민등록번호 입력(14자리, 종료:q,Q) >>>  q\n"
     ]
    },
    {
     "name": "stdout",
     "output_type": "stream",
     "text": [
      "프로그램 종료\n"
     ]
    }
   ],
   "source": [
    "while True:\n",
    "    invalue = input('주민등록번호 입력(14자리, 종료:q,Q) >>> ')\n",
    "    if len(invalue) == 1 and invalue.lower() == 'q' :\n",
    "        print('프로그램 종료')\n",
    "        break\n",
    "    elif len(invalue) == 14 and invalue[6] == '-' and invalue[7] in ['1','2','3','4']:\n",
    "        if invalue[7] in ['1', '3']:\n",
    "            print('남성입니다.')\n",
    "        else:\n",
    "            print('여성입니다.')\n",
    "    else:\n",
    "        print('입력 문자의 길이가 안맞거나, 성별값의 범위가 아닙니다.')\n",
    "          "
   ]
  },
  {
   "cell_type": "raw",
   "id": "07a5ddce-1c92-409e-a02a-6af3656e34ef",
   "metadata": {},
   "source": [
    "quiz 02>\n",
    "로또 번호 추출기\n",
    "총 5세트의 번호를 추출합니다.\n",
    "한 세트당 번호는 6개입니다.\n",
    "번호는 1~45 사이의 번호만 가능합니다.\n",
    "번호는 중복되면 안됩니다.\n",
    "번호를 출력시 오름차순으로 정렬해서 출력합니다."
   ]
  },
  {
   "cell_type": "code",
   "execution_count": 30,
   "id": "f9d4023c-04c1-4ae1-9835-0c1036128054",
   "metadata": {},
   "outputs": [],
   "source": [
    "import random #랜덤 함수 추가"
   ]
  },
  {
   "cell_type": "code",
   "execution_count": 31,
   "id": "4102b4ec-b43b-416d-9ae5-ff450a98773e",
   "metadata": {},
   "outputs": [
    {
     "data": {
      "text/plain": [
       "0.923559850867826"
      ]
     },
     "execution_count": 31,
     "metadata": {},
     "output_type": "execute_result"
    }
   ],
   "source": [
    "random.random() #0과 1사이의 값 랜덤 추출"
   ]
  },
  {
   "cell_type": "code",
   "execution_count": 39,
   "id": "e74bc8cc-6275-474b-a16b-a2e5a3bd538d",
   "metadata": {},
   "outputs": [
    {
     "data": {
      "text/plain": [
       "7"
      ]
     },
     "execution_count": 39,
     "metadata": {},
     "output_type": "execute_result"
    }
   ],
   "source": [
    "random.randint(1,45) #범위 (a,b)사이의 값 랜덤 추출"
   ]
  },
  {
   "cell_type": "code",
   "execution_count": 40,
   "id": "8362cc04-6762-496d-a067-30c26a818878",
   "metadata": {},
   "outputs": [
    {
     "data": {
      "text/plain": [
       "[1, 2, 4, 5]"
      ]
     },
     "execution_count": 40,
     "metadata": {},
     "output_type": "execute_result"
    }
   ],
   "source": [
    "a = [2,4,5,1]\n",
    "a.sort() #정렬\n",
    "a"
   ]
  },
  {
   "cell_type": "code",
   "execution_count": 99,
   "id": "85de6acd-d684-4db3-a196-55405a6746bf",
   "metadata": {},
   "outputs": [
    {
     "name": "stdout",
     "output_type": "stream",
     "text": [
      "추출된 로또번호 :  [2, 4, 8, 19, 39, 43]\n"
     ]
    }
   ],
   "source": [
    "lotto = []\n",
    "while len(lotto) <= 6:\n",
    "    num = random.randint(1, 45)\n",
    "    if num not in lotto:\n",
    "        lotto.append(num)\n",
    "        if len(lotto) == 6:\n",
    "            lotto.sort()\n",
    "            print('추출된 로또번호 : ',lotto)\n",
    "            break"
   ]
  },
  {
   "cell_type": "code",
   "execution_count": 119,
   "id": "364202cf-c14e-4a29-b595-0946ac84eeb5",
   "metadata": {},
   "outputs": [
    {
     "name": "stdout",
     "output_type": "stream",
     "text": [
      "추출된 로또번호 :  [7, 15, 17, 19, 22, 44]\n",
      "추출된 로또번호 :  [4, 27, 30, 32, 38, 40]\n",
      "추출된 로또번호 :  [1, 10, 15, 19, 25, 39]\n",
      "추출된 로또번호 :  [4, 5, 16, 24, 25, 43]\n",
      "추출된 로또번호 :  [1, 5, 8, 26, 36, 42]\n"
     ]
    }
   ],
   "source": [
    "for i in range(5):\n",
    "    lotto = []\n",
    "    while len(lotto) <= 6:\n",
    "        num = random.randint(1, 45)\n",
    "        if num not in lotto:\n",
    "            lotto.append(num)\n",
    "            if len(lotto) == 6:\n",
    "                lotto.sort()\n",
    "                print('추출된 로또번호 : ',lotto)"
   ]
  },
  {
   "cell_type": "code",
   "execution_count": 110,
   "id": "55cb5d11-8328-4263-8eb6-2ec3ffa7c030",
   "metadata": {},
   "outputs": [
    {
     "name": "stdout",
     "output_type": "stream",
     "text": [
      "[1, 7, 13, 23, 28, 34]\n",
      "[15, 24, 26, 29, 30, 43]\n",
      "[4, 10, 13, 26, 29, 37]\n",
      "[2, 8, 14, 18, 21, 36]\n",
      "[5, 11, 19, 33, 36, 37]\n"
     ]
    }
   ],
   "source": [
    "#강사님\n",
    "import random\n",
    "for i in range(5):\n",
    "    lotto = [0, 0, 0, 0, 0, 0]\n",
    "    for x in range(6):\n",
    "        num = 0\n",
    "        while (num in lotto):\n",
    "            num = random.randint(1, 45)\n",
    "        lotto[x] = num\n",
    "    lotto.sort()\n",
    "    print(lotto)"
   ]
  },
  {
   "cell_type": "code",
   "execution_count": 120,
   "id": "62696b71-1b46-4fda-9651-9df94f82d55c",
   "metadata": {},
   "outputs": [
    {
     "name": "stdout",
     "output_type": "stream",
     "text": [
      "[11, 19, 22, 23, 34, 43]\n",
      "[15, 22, 34, 38, 39, 42]\n",
      "[3, 6, 22, 28, 33, 37]\n",
      "[1, 9, 13, 16, 25, 35]\n",
      "[2, 15, 18, 26, 30, 44]\n",
      "[4, 13, 14, 22, 26, 28]\n"
     ]
    }
   ],
   "source": [
    "#간단하게 random.sample 이용\n",
    "for i in range(6):\n",
    "    lotto = random.sample(range(1, 46), 6)\n",
    "    lotto.sort()\n",
    "    print(lotto)"
   ]
  },
  {
   "cell_type": "raw",
   "id": "9d3c568d-0170-467e-8654-d0f829fc85ee",
   "metadata": {},
   "source": [
    "quiz 03> 커피메뉴 관리프로그램\n",
    "데이터 저장은 딕셔너리로..ex){'메뉴명': 가격, 'coffee':2000}\n",
    "프로그램에서 사용할 메뉴\n",
    " 1. 메뉴입력 2. 메뉴수정 3. 메뉴목록 4. 메뉴삭제 5. 프로그램종료\n",
    " - 메뉴입력 : 메뉴명과 가격을 입력받아서 저장\n",
    " - 메뉴수정 : 메뉴명을 확인하고 있는 메뉴에 가격을 입력받아 수정\n",
    " - 메뉴목록 : 저장된 메뉴명과 가격을 출력 (천 단위 구분기호 표기), 메뉴명 순서대로 출력(가나다 순)\n",
    " - 메뉴삭제 : 메뉴명을 확인하고 있는 메뉴에서 삭제\n",
    " - 프로그램 종료 : 프로그램을 종료하는 메시지를 출력하고 종료\n",
    " - 메뉴1~5까지만 입력받고 다른 값이 들어오면 관련 에러 메시지를 출력한다.\n",
    " - 가격은 숫자로 입력해야됨"
   ]
  },
  {
   "cell_type": "code",
   "execution_count": 42,
   "id": "11e46ebe-8bca-4d8d-a7ac-5118c570a39b",
   "metadata": {},
   "outputs": [],
   "source": [
    "#가나다 정렬 sorted()\n",
    "list1 = [5, 2, 3, 1, 4]\n",
    "dict1 = {'아이스아메리카노' : 3000, '라떼' : 4000, '코코아' : 3500}"
   ]
  },
  {
   "cell_type": "code",
   "execution_count": 124,
   "id": "5552a023-0a02-479f-ac48-0bddee423bf5",
   "metadata": {},
   "outputs": [
    {
     "data": {
      "text/plain": [
       "[1, 2, 3, 4, 5]"
      ]
     },
     "execution_count": 124,
     "metadata": {},
     "output_type": "execute_result"
    }
   ],
   "source": [
    "sorted(list1) #정렬한 값을 return"
   ]
  },
  {
   "cell_type": "code",
   "execution_count": 125,
   "id": "9d34558e-eb96-4b55-8c75-8b88e42958e3",
   "metadata": {},
   "outputs": [
    {
     "data": {
      "text/plain": [
       "[5, 2, 3, 1, 4]"
      ]
     },
     "execution_count": 125,
     "metadata": {},
     "output_type": "execute_result"
    }
   ],
   "source": [
    "list1 #원본은 손 안대짐"
   ]
  },
  {
   "cell_type": "code",
   "execution_count": 47,
   "id": "1762214b-546d-4341-99fd-e87d1547e00a",
   "metadata": {},
   "outputs": [
    {
     "ename": "AttributeError",
     "evalue": "'list' object has no attribute 'dict'",
     "output_type": "error",
     "traceback": [
      "\u001b[1;31m---------------------------------------------------------------------------\u001b[0m",
      "\u001b[1;31mAttributeError\u001b[0m                            Traceback (most recent call last)",
      "\u001b[1;32m~\\AppData\\Local\\Temp/ipykernel_12048/2447459985.py\u001b[0m in \u001b[0;36m<module>\u001b[1;34m\u001b[0m\n\u001b[1;32m----> 1\u001b[1;33m \u001b[0msorted\u001b[0m\u001b[1;33m(\u001b[0m\u001b[0mdict1\u001b[0m\u001b[1;33m.\u001b[0m\u001b[0mitems\u001b[0m\u001b[1;33m(\u001b[0m\u001b[1;33m)\u001b[0m\u001b[1;33m)\u001b[0m\u001b[1;33m.\u001b[0m\u001b[0mdict\u001b[0m\u001b[1;33m(\u001b[0m\u001b[1;33m)\u001b[0m\u001b[1;33m\u001b[0m\u001b[1;33m\u001b[0m\u001b[0m\n\u001b[0m",
      "\u001b[1;31mAttributeError\u001b[0m: 'list' object has no attribute 'dict'"
     ]
    }
   ],
   "source": [
    "sorted(dict1.items())"
   ]
  },
  {
   "cell_type": "code",
   "execution_count": 43,
   "id": "7b986c58-c07a-4967-8f4b-ea16cf71befa",
   "metadata": {},
   "outputs": [
    {
     "ename": "AttributeError",
     "evalue": "type object 'dict' has no attribute 'sort'",
     "output_type": "error",
     "traceback": [
      "\u001b[1;31m---------------------------------------------------------------------------\u001b[0m",
      "\u001b[1;31mAttributeError\u001b[0m                            Traceback (most recent call last)",
      "\u001b[1;32m~\\AppData\\Local\\Temp/ipykernel_12048/1045209575.py\u001b[0m in \u001b[0;36m<module>\u001b[1;34m\u001b[0m\n\u001b[1;32m----> 1\u001b[1;33m \u001b[0mdict\u001b[0m\u001b[1;33m.\u001b[0m\u001b[0msort\u001b[0m\u001b[1;33m(\u001b[0m\u001b[1;33m)\u001b[0m\u001b[1;33m\u001b[0m\u001b[1;33m\u001b[0m\u001b[0m\n\u001b[0m",
      "\u001b[1;31mAttributeError\u001b[0m: type object 'dict' has no attribute 'sort'"
     ]
    }
   ],
   "source": [
    "dict.sort()"
   ]
  },
  {
   "cell_type": "code",
   "execution_count": 130,
   "id": "f3d42bbe-e17b-4e94-8ce3-ce05aafd903a",
   "metadata": {},
   "outputs": [
    {
     "data": {
      "text/plain": [
       "[('아이스아메리카노', 3000), ('코코아', 3500), ('라떼', 4000)]"
      ]
     },
     "execution_count": 130,
     "metadata": {},
     "output_type": "execute_result"
    }
   ],
   "source": [
    "sorted(dict1.items(), key=lambda data:data[1]) #lambda"
   ]
  },
  {
   "cell_type": "code",
   "execution_count": 131,
   "id": "f64c3e7a-9bf2-415b-b87b-7cf93abf467a",
   "metadata": {},
   "outputs": [],
   "source": [
    "student_tu = [('john', 'A', 15),\n",
    "              ('jane', 'B', 12),\n",
    "              ('dave', 'B', 10)]"
   ]
  },
  {
   "cell_type": "code",
   "execution_count": 133,
   "id": "c71ff2f3-2464-4861-83be-b8812d00e013",
   "metadata": {},
   "outputs": [
    {
     "data": {
      "text/plain": [
       "[('dave', 'B', 10), ('jane', 'B', 12), ('john', 'A', 15)]"
      ]
     },
     "execution_count": 133,
     "metadata": {},
     "output_type": "execute_result"
    }
   ],
   "source": [
    "sorted(student_tu) #이름순 정렬"
   ]
  },
  {
   "cell_type": "code",
   "execution_count": 134,
   "id": "ac4ba0d5-acf4-4e48-8ed4-73532e612269",
   "metadata": {},
   "outputs": [
    {
     "data": {
      "text/plain": [
       "[('dave', 'B', 10), ('jane', 'B', 12), ('john', 'A', 15)]"
      ]
     },
     "execution_count": 134,
     "metadata": {},
     "output_type": "execute_result"
    }
   ],
   "source": [
    "sorted(student_tu, key=lambda x : x[2]) #x[2]나이, 나이순 정렬"
   ]
  },
  {
   "cell_type": "code",
   "execution_count": 136,
   "id": "8f14f4ef-d2cc-4be9-a351-0f1889e3970a",
   "metadata": {},
   "outputs": [
    {
     "data": {
      "text/plain": [
       "[('john', 'A', 15), ('jane', 'B', 12), ('dave', 'B', 10)]"
      ]
     },
     "execution_count": 136,
     "metadata": {},
     "output_type": "execute_result"
    }
   ],
   "source": [
    "print(sorted(student_tu, key=lambda x : x[2], reverse=True)) #나이 역순 정렬"
   ]
  },
  {
   "cell_type": "code",
   "execution_count": null,
   "id": "a4461cbe-2b14-4e5a-a15f-f889a7be3ad5",
   "metadata": {
    "tags": []
   },
   "outputs": [
    {
     "name": "stdin",
     "output_type": "stream",
     "text": [
      "무엇을 하시겠습니까?\n",
      "(카테고리 : 메뉴입력 = 1, 메뉴수정 = 2, 메뉴목록 = 3, 메뉴삭제 = 4, 프로그램 종료 = 5) :  3\n"
     ]
    },
    {
     "name": "stdout",
     "output_type": "stream",
     "text": [
      "메뉴목록입니다.  []\n"
     ]
    },
    {
     "name": "stdin",
     "output_type": "stream",
     "text": [
      "무엇을 하시겠습니까?\n",
      "(카테고리 : 메뉴입력 = 1, 메뉴수정 = 2, 메뉴목록 = 3, 메뉴삭제 = 4, 프로그램 종료 = 5) :  1\n",
      "메뉴명을 입력하세요 :  커피\n",
      "가격을 입력하세요 :  3000\n",
      "무엇을 하시겠습니까?\n",
      "(카테고리 : 메뉴입력 = 1, 메뉴수정 = 2, 메뉴목록 = 3, 메뉴삭제 = 4, 프로그램 종료 = 5) :  3\n"
     ]
    },
    {
     "name": "stdout",
     "output_type": "stream",
     "text": [
      "메뉴목록입니다.  []\n"
     ]
    }
   ],
   "source": [
    "#나 #실패\n",
    "while True :\n",
    "    category = input('무엇을 하시겠습니까?\\n(카테고리 : 메뉴입력 = 1, 메뉴수정 = 2, 메뉴목록 = 3, 메뉴삭제 = 4, 프로그램 종료 = 5) : ')    \n",
    "    menu = {}\n",
    "    if category == '1' :\n",
    "        name = input('메뉴명을 입력하세요 : ')\n",
    "        price = input('가격을 입력하세요 : ')\n",
    "        menu[name] = int(price)\n",
    "    \n",
    "    elif category == '2' :\n",
    "        print(list(menu.keys()))\n",
    "        name = input('가격을 수정할 메뉴명을 입력하세요 : ')\n",
    "        if name in menu.keys():\n",
    "            price = input('수정할 가격을 입력하세요 : ')\n",
    "            menu[name] = int(price)\n",
    "        else :\n",
    "            print('존재하지 않는 메뉴입니다.')\n",
    "   \n",
    "    elif category == '3' :\n",
    "        menu = sorted(menu.items()) #천단위 표시\n",
    "        print('메뉴목록입니다. ', menu)\n",
    "    \n",
    "    elif category == '4' :\n",
    "        print(list(menu.keys()))\n",
    "        name = input('삭제할 메뉴명을 입력하세요 : ')\n",
    "        if name in menu.keys():\n",
    "            del[name]\n",
    "        else :\n",
    "            print('존재하지 않는 메뉴입니다.')\n",
    "        \n",
    "    elif category == '5' :\n",
    "        print('프로그램을 종료합니다.')\n",
    "        break\n",
    "        \n",
    "    else :\n",
    "        print('유효하지 않은 카테고리입니다.')"
   ]
  },
  {
   "cell_type": "code",
   "execution_count": null,
   "id": "c08a539f-9348-4014-a189-9d1cf5e547b7",
   "metadata": {},
   "outputs": [],
   "source": [
    " menu = {'커피' : 5000, '라떼' : 3000, '아이스' :1000}\n",
    "menu.keys()\n",
    "\n"
   ]
  },
  {
   "cell_type": "code",
   "execution_count": 179,
   "id": "3714b57a-65db-4738-b335-fc792ed6fcc4",
   "metadata": {},
   "outputs": [],
   "source": [
    "menu = {}"
   ]
  },
  {
   "cell_type": "code",
   "execution_count": 180,
   "id": "fbfea6d4-c466-46e0-9193-a424f7eec551",
   "metadata": {},
   "outputs": [],
   "source": [
    "menu[1]=3"
   ]
  },
  {
   "cell_type": "code",
   "execution_count": 54,
   "id": "2cce9469-d3b5-48dd-ac7a-8b3becd5f835",
   "metadata": {},
   "outputs": [
    {
     "name": "stdin",
     "output_type": "stream",
     "text": [
      "무엇을 하시겠습니까?\n",
      "(카테고리 : 1.메뉴입력, 2.메뉴수정, 3.메뉴목록, 4.메뉴삭제, 5.프로그램 종료) :  2\n"
     ]
    },
    {
     "name": "stdout",
     "output_type": "stream",
     "text": [
      "메뉴 목록입니다. ['아메리카노', '라떼']\n"
     ]
    },
    {
     "name": "stdin",
     "output_type": "stream",
     "text": [
      "가격을 수정할 메뉴명을 입력하세요 :  라떼\n",
      "수정할 가격을 입력하세요 :  1000\n",
      "무엇을 하시겠습니까?\n",
      "(카테고리 : 1.메뉴입력, 2.메뉴수정, 3.메뉴목록, 4.메뉴삭제, 5.프로그램 종료) :  3\n"
     ]
    },
    {
     "name": "stdout",
     "output_type": "stream",
     "text": [
      "<메뉴판>\n",
      "라떼 1,000\n",
      "아메리카노 3,000\n"
     ]
    },
    {
     "name": "stdin",
     "output_type": "stream",
     "text": [
      "무엇을 하시겠습니까?\n",
      "(카테고리 : 1.메뉴입력, 2.메뉴수정, 3.메뉴목록, 4.메뉴삭제, 5.프로그램 종료) :  4\n"
     ]
    },
    {
     "name": "stdout",
     "output_type": "stream",
     "text": [
      "메뉴 목록입니다. ['아메리카노', '라떼']\n"
     ]
    },
    {
     "ename": "KeyboardInterrupt",
     "evalue": "Interrupted by user",
     "output_type": "error",
     "traceback": [
      "\u001b[1;31m---------------------------------------------------------------------------\u001b[0m",
      "\u001b[1;31mKeyboardInterrupt\u001b[0m                         Traceback (most recent call last)",
      "\u001b[1;32m~\\AppData\\Local\\Temp/ipykernel_12048/4268310953.py\u001b[0m in \u001b[0;36m<module>\u001b[1;34m\u001b[0m\n\u001b[0;32m     29\u001b[0m     \u001b[1;32melif\u001b[0m \u001b[0mcategory\u001b[0m \u001b[1;33m==\u001b[0m \u001b[1;34m'4'\u001b[0m \u001b[1;33m:\u001b[0m\u001b[1;33m\u001b[0m\u001b[1;33m\u001b[0m\u001b[0m\n\u001b[0;32m     30\u001b[0m         \u001b[0mprint\u001b[0m\u001b[1;33m(\u001b[0m\u001b[1;34m'메뉴 목록입니다.'\u001b[0m\u001b[1;33m,\u001b[0m \u001b[0mlist\u001b[0m\u001b[1;33m(\u001b[0m\u001b[0mmenu\u001b[0m\u001b[1;33m.\u001b[0m\u001b[0mkeys\u001b[0m\u001b[1;33m(\u001b[0m\u001b[1;33m)\u001b[0m\u001b[1;33m)\u001b[0m\u001b[1;33m)\u001b[0m\u001b[1;33m\u001b[0m\u001b[1;33m\u001b[0m\u001b[0m\n\u001b[1;32m---> 31\u001b[1;33m         \u001b[0mname\u001b[0m \u001b[1;33m=\u001b[0m \u001b[0minput\u001b[0m\u001b[1;33m(\u001b[0m\u001b[1;34m'삭제할 메뉴명을 입력하세요 : '\u001b[0m\u001b[1;33m)\u001b[0m\u001b[1;33m\u001b[0m\u001b[1;33m\u001b[0m\u001b[0m\n\u001b[0m\u001b[0;32m     32\u001b[0m         \u001b[1;32mif\u001b[0m \u001b[0mname\u001b[0m \u001b[1;32min\u001b[0m \u001b[0mmenu\u001b[0m\u001b[1;33m.\u001b[0m\u001b[0mkeys\u001b[0m\u001b[1;33m(\u001b[0m\u001b[1;33m)\u001b[0m\u001b[1;33m:\u001b[0m\u001b[1;33m\u001b[0m\u001b[1;33m\u001b[0m\u001b[0m\n\u001b[0;32m     33\u001b[0m             \u001b[1;32mdel\u001b[0m\u001b[1;33m[\u001b[0m\u001b[0mname\u001b[0m\u001b[1;33m]\u001b[0m\u001b[1;33m\u001b[0m\u001b[1;33m\u001b[0m\u001b[0m\n",
      "\u001b[1;32m~\\anaconda3\\lib\\site-packages\\ipykernel\\kernelbase.py\u001b[0m in \u001b[0;36mraw_input\u001b[1;34m(self, prompt)\u001b[0m\n\u001b[0;32m   1004\u001b[0m                 \u001b[1;34m\"raw_input was called, but this frontend does not support input requests.\"\u001b[0m\u001b[1;33m\u001b[0m\u001b[1;33m\u001b[0m\u001b[0m\n\u001b[0;32m   1005\u001b[0m             )\n\u001b[1;32m-> 1006\u001b[1;33m         return self._input_request(\n\u001b[0m\u001b[0;32m   1007\u001b[0m             \u001b[0mstr\u001b[0m\u001b[1;33m(\u001b[0m\u001b[0mprompt\u001b[0m\u001b[1;33m)\u001b[0m\u001b[1;33m,\u001b[0m\u001b[1;33m\u001b[0m\u001b[1;33m\u001b[0m\u001b[0m\n\u001b[0;32m   1008\u001b[0m             \u001b[0mself\u001b[0m\u001b[1;33m.\u001b[0m\u001b[0m_parent_ident\u001b[0m\u001b[1;33m[\u001b[0m\u001b[1;34m\"shell\"\u001b[0m\u001b[1;33m]\u001b[0m\u001b[1;33m,\u001b[0m\u001b[1;33m\u001b[0m\u001b[1;33m\u001b[0m\u001b[0m\n",
      "\u001b[1;32m~\\anaconda3\\lib\\site-packages\\ipykernel\\kernelbase.py\u001b[0m in \u001b[0;36m_input_request\u001b[1;34m(self, prompt, ident, parent, password)\u001b[0m\n\u001b[0;32m   1049\u001b[0m             \u001b[1;32mexcept\u001b[0m \u001b[0mKeyboardInterrupt\u001b[0m\u001b[1;33m:\u001b[0m\u001b[1;33m\u001b[0m\u001b[1;33m\u001b[0m\u001b[0m\n\u001b[0;32m   1050\u001b[0m                 \u001b[1;31m# re-raise KeyboardInterrupt, to truncate traceback\u001b[0m\u001b[1;33m\u001b[0m\u001b[1;33m\u001b[0m\u001b[0m\n\u001b[1;32m-> 1051\u001b[1;33m                 \u001b[1;32mraise\u001b[0m \u001b[0mKeyboardInterrupt\u001b[0m\u001b[1;33m(\u001b[0m\u001b[1;34m\"Interrupted by user\"\u001b[0m\u001b[1;33m)\u001b[0m \u001b[1;32mfrom\u001b[0m \u001b[1;32mNone\u001b[0m\u001b[1;33m\u001b[0m\u001b[1;33m\u001b[0m\u001b[0m\n\u001b[0m\u001b[0;32m   1052\u001b[0m             \u001b[1;32mexcept\u001b[0m \u001b[0mException\u001b[0m\u001b[1;33m:\u001b[0m\u001b[1;33m\u001b[0m\u001b[1;33m\u001b[0m\u001b[0m\n\u001b[0;32m   1053\u001b[0m                 \u001b[0mself\u001b[0m\u001b[1;33m.\u001b[0m\u001b[0mlog\u001b[0m\u001b[1;33m.\u001b[0m\u001b[0mwarning\u001b[0m\u001b[1;33m(\u001b[0m\u001b[1;34m\"Invalid Message:\"\u001b[0m\u001b[1;33m,\u001b[0m \u001b[0mexc_info\u001b[0m\u001b[1;33m=\u001b[0m\u001b[1;32mTrue\u001b[0m\u001b[1;33m)\u001b[0m\u001b[1;33m\u001b[0m\u001b[1;33m\u001b[0m\u001b[0m\n",
      "\u001b[1;31mKeyboardInterrupt\u001b[0m: Interrupted by user"
     ]
    }
   ],
   "source": [
    "#나 \n",
    "menu = {'아메리카노' : 3000, '라떼' : 1000}\n",
    "while True :\n",
    "    category = input('무엇을 하시겠습니까?\\n(카테고리 : 1.메뉴입력, 2.메뉴수정, 3.메뉴목록, 4.메뉴삭제, 5.프로그램 종료) : ')    \n",
    "    \n",
    "    if category == '1' :\n",
    "        name = input('메뉴명을 입력하세요 : ')\n",
    "        price = 'a'\n",
    "        while not price.isdecimal():\n",
    "            price = input('가격을 입력하세요 : ')\n",
    "        menu[name] = int(price)\n",
    "    \n",
    "    elif category == '2' :\n",
    "        print('메뉴 목록입니다.', list(menu.keys()))\n",
    "        name = input('가격을 수정할 메뉴명을 입력하세요 : ')\n",
    "        if name in menu.keys():\n",
    "            price = 'a'\n",
    "            while not price.isdecimal():\n",
    "                price = input('수정할 가격을 입력하세요 : ')\n",
    "            menu[name] = int(price)\n",
    "        else :\n",
    "            print('존재하지 않는 메뉴입니다.')\n",
    "   \n",
    "    elif category == '3' :\n",
    "        print('<메뉴판>')\n",
    "        for item in sorted(menu.items()):\n",
    "            print(f'{item[0]} {item[1]:,}')\n",
    "    \n",
    "    elif category == '4' :\n",
    "        print('메뉴 목록입니다.', list(menu.keys()))\n",
    "        name = input('삭제할 메뉴명을 입력하세요 : ')\n",
    "        if name in menu.keys():\n",
    "            del[name]\n",
    "        else :\n",
    "            print('존재하지 않는 메뉴입니다.')\n",
    "        \n",
    "    elif category == '5' :\n",
    "        print('프로그램을 종료합니다.')\n",
    "        break\n",
    "        \n",
    "    else :\n",
    "        print('유효하지 않은 카테고리입니다.')"
   ]
  },
  {
   "cell_type": "code",
   "execution_count": 52,
   "id": "a8e6aeae-0f8a-49b2-a73a-61f0437fd106",
   "metadata": {},
   "outputs": [
    {
     "name": "stdin",
     "output_type": "stream",
     "text": [
      "무엇을 하시겠습니까?\n",
      "(카테고리 : 1.메뉴입력, 2.메뉴수정, 3.메뉴목록, 4.메뉴삭제, 5.프로그램 종료) :  1\n",
      "메뉴명을 입력하세요 :  라\n",
      "가격을 입력하세요 :  300\n",
      "무엇을 하시겠습니까?\n",
      "(카테고리 : 1.메뉴입력, 2.메뉴수정, 3.메뉴목록, 4.메뉴삭제, 5.프로그램 종료) :  2\n"
     ]
    },
    {
     "name": "stdout",
     "output_type": "stream",
     "text": [
      "메뉴 목록입니다. ['아메리카노', '라떼', '라']\n"
     ]
    },
    {
     "name": "stdin",
     "output_type": "stream",
     "text": [
      "가격을 수정할 메뉴명을 입력하세요 :  라\n",
      "수정할 가격을 입력하세요 :  5000\n",
      "무엇을 하시겠습니까?\n",
      "(카테고리 : 1.메뉴입력, 2.메뉴수정, 3.메뉴목록, 4.메뉴삭제, 5.프로그램 종료) :  3\n"
     ]
    },
    {
     "name": "stdout",
     "output_type": "stream",
     "text": [
      "<메뉴판>\n",
      "라 5,000\n",
      "라떼 1,000\n",
      "아메리카노 3,000\n"
     ]
    },
    {
     "name": "stdin",
     "output_type": "stream",
     "text": [
      "무엇을 하시겠습니까?\n",
      "(카테고리 : 1.메뉴입력, 2.메뉴수정, 3.메뉴목록, 4.메뉴삭제, 5.프로그램 종료) :  4\n"
     ]
    },
    {
     "name": "stdout",
     "output_type": "stream",
     "text": [
      "메뉴 목록입니다. ['아메리카노', '라떼', '라']\n"
     ]
    },
    {
     "name": "stdin",
     "output_type": "stream",
     "text": [
      "삭제할 메뉴명을 입력하세요 :  라\n",
      "무엇을 하시겠습니까?\n",
      "(카테고리 : 1.메뉴입력, 2.메뉴수정, 3.메뉴목록, 4.메뉴삭제, 5.프로그램 종료) :  3\n"
     ]
    },
    {
     "name": "stdout",
     "output_type": "stream",
     "text": [
      "<메뉴판>\n",
      "라 5,000\n",
      "라떼 1,000\n",
      "아메리카노 3,000\n"
     ]
    },
    {
     "ename": "KeyboardInterrupt",
     "evalue": "Interrupted by user",
     "output_type": "error",
     "traceback": [
      "\u001b[1;31m---------------------------------------------------------------------------\u001b[0m",
      "\u001b[1;31mKeyboardInterrupt\u001b[0m                         Traceback (most recent call last)",
      "\u001b[1;32m~\\AppData\\Local\\Temp/ipykernel_12048/98813281.py\u001b[0m in \u001b[0;36m<module>\u001b[1;34m\u001b[0m\n\u001b[0;32m      1\u001b[0m \u001b[0mmenu\u001b[0m \u001b[1;33m=\u001b[0m \u001b[1;33m{\u001b[0m\u001b[1;34m'아메리카노'\u001b[0m \u001b[1;33m:\u001b[0m \u001b[1;36m3000\u001b[0m\u001b[1;33m,\u001b[0m \u001b[1;34m'라떼'\u001b[0m \u001b[1;33m:\u001b[0m \u001b[1;36m1000\u001b[0m\u001b[1;33m}\u001b[0m\u001b[1;33m\u001b[0m\u001b[1;33m\u001b[0m\u001b[0m\n\u001b[0;32m      2\u001b[0m \u001b[1;32mwhile\u001b[0m \u001b[1;32mTrue\u001b[0m \u001b[1;33m:\u001b[0m\u001b[1;33m\u001b[0m\u001b[1;33m\u001b[0m\u001b[0m\n\u001b[1;32m----> 3\u001b[1;33m     \u001b[0mcategory\u001b[0m \u001b[1;33m=\u001b[0m \u001b[0minput\u001b[0m\u001b[1;33m(\u001b[0m\u001b[1;34m'무엇을 하시겠습니까?\\n(카테고리 : 1.메뉴입력, 2.메뉴수정, 3.메뉴목록, 4.메뉴삭제, 5.프로그램 종료) : '\u001b[0m\u001b[1;33m)\u001b[0m\u001b[1;33m\u001b[0m\u001b[1;33m\u001b[0m\u001b[0m\n\u001b[0m\u001b[0;32m      4\u001b[0m \u001b[1;33m\u001b[0m\u001b[0m\n\u001b[0;32m      5\u001b[0m     \u001b[1;32mif\u001b[0m \u001b[0mcategory\u001b[0m \u001b[1;33m==\u001b[0m \u001b[1;34m'1'\u001b[0m \u001b[1;33m:\u001b[0m\u001b[1;33m\u001b[0m\u001b[1;33m\u001b[0m\u001b[0m\n",
      "\u001b[1;32m~\\anaconda3\\lib\\site-packages\\ipykernel\\kernelbase.py\u001b[0m in \u001b[0;36mraw_input\u001b[1;34m(self, prompt)\u001b[0m\n\u001b[0;32m   1004\u001b[0m                 \u001b[1;34m\"raw_input was called, but this frontend does not support input requests.\"\u001b[0m\u001b[1;33m\u001b[0m\u001b[1;33m\u001b[0m\u001b[0m\n\u001b[0;32m   1005\u001b[0m             )\n\u001b[1;32m-> 1006\u001b[1;33m         return self._input_request(\n\u001b[0m\u001b[0;32m   1007\u001b[0m             \u001b[0mstr\u001b[0m\u001b[1;33m(\u001b[0m\u001b[0mprompt\u001b[0m\u001b[1;33m)\u001b[0m\u001b[1;33m,\u001b[0m\u001b[1;33m\u001b[0m\u001b[1;33m\u001b[0m\u001b[0m\n\u001b[0;32m   1008\u001b[0m             \u001b[0mself\u001b[0m\u001b[1;33m.\u001b[0m\u001b[0m_parent_ident\u001b[0m\u001b[1;33m[\u001b[0m\u001b[1;34m\"shell\"\u001b[0m\u001b[1;33m]\u001b[0m\u001b[1;33m,\u001b[0m\u001b[1;33m\u001b[0m\u001b[1;33m\u001b[0m\u001b[0m\n",
      "\u001b[1;32m~\\anaconda3\\lib\\site-packages\\ipykernel\\kernelbase.py\u001b[0m in \u001b[0;36m_input_request\u001b[1;34m(self, prompt, ident, parent, password)\u001b[0m\n\u001b[0;32m   1049\u001b[0m             \u001b[1;32mexcept\u001b[0m \u001b[0mKeyboardInterrupt\u001b[0m\u001b[1;33m:\u001b[0m\u001b[1;33m\u001b[0m\u001b[1;33m\u001b[0m\u001b[0m\n\u001b[0;32m   1050\u001b[0m                 \u001b[1;31m# re-raise KeyboardInterrupt, to truncate traceback\u001b[0m\u001b[1;33m\u001b[0m\u001b[1;33m\u001b[0m\u001b[0m\n\u001b[1;32m-> 1051\u001b[1;33m                 \u001b[1;32mraise\u001b[0m \u001b[0mKeyboardInterrupt\u001b[0m\u001b[1;33m(\u001b[0m\u001b[1;34m\"Interrupted by user\"\u001b[0m\u001b[1;33m)\u001b[0m \u001b[1;32mfrom\u001b[0m \u001b[1;32mNone\u001b[0m\u001b[1;33m\u001b[0m\u001b[1;33m\u001b[0m\u001b[0m\n\u001b[0m\u001b[0;32m   1052\u001b[0m             \u001b[1;32mexcept\u001b[0m \u001b[0mException\u001b[0m\u001b[1;33m:\u001b[0m\u001b[1;33m\u001b[0m\u001b[1;33m\u001b[0m\u001b[0m\n\u001b[0;32m   1053\u001b[0m                 \u001b[0mself\u001b[0m\u001b[1;33m.\u001b[0m\u001b[0mlog\u001b[0m\u001b[1;33m.\u001b[0m\u001b[0mwarning\u001b[0m\u001b[1;33m(\u001b[0m\u001b[1;34m\"Invalid Message:\"\u001b[0m\u001b[1;33m,\u001b[0m \u001b[0mexc_info\u001b[0m\u001b[1;33m=\u001b[0m\u001b[1;32mTrue\u001b[0m\u001b[1;33m)\u001b[0m\u001b[1;33m\u001b[0m\u001b[1;33m\u001b[0m\u001b[0m\n",
      "\u001b[1;31mKeyboardInterrupt\u001b[0m: Interrupted by user"
     ]
    }
   ],
   "source": [
    "menu = {'아메리카노' : 3000, '라떼' : 1000}\n",
    "while True :\n",
    "    category = input('무엇을 하시겠습니까?\\n(카테고리 : 1.메뉴입력, 2.메뉴수정, 3.메뉴목록, 4.메뉴삭제, 5.프로그램 종료) : ')    \n",
    "    \n",
    "    if category == '1' :\n",
    "        name = input('메뉴명을 입력하세요 : ')\n",
    "        price = 'a'\n",
    "        while not price.isdecimal():\n",
    "            price = input('가격을 입력하세요 : ')\n",
    "        menu[name] = int(price)\n",
    "    \n",
    "    elif category == '2' :\n",
    "        print('메뉴 목록입니다.', list(menu.keys()))\n",
    "        name = ''\n",
    "        while not name in menu.keys():\n",
    "            name = input('가격을 수정할 메뉴명을 입력하세요 : ')\n",
    "        price = 'a'\n",
    "        while not price.isdecimal():\n",
    "            price = input('수정할 가격을 입력하세요 : ')\n",
    "        menu[name] = int(price)\n",
    "   \n",
    "    elif category == '3' :\n",
    "        print('<메뉴판>')\n",
    "        for item in sorted(menu.items()):\n",
    "            print(f'{item[0]} {item[1]:,}')\n",
    "    \n",
    "    elif category == '4' :\n",
    "        print('메뉴 목록입니다.', list(menu.keys()))\n",
    "        name = ''\n",
    "        while not name in menu.keys():\n",
    "            name = input('삭제할 메뉴명을 입력하세요 : ')\n",
    "        del[name]\n",
    "        \n",
    "    elif category == '5' :\n",
    "        print('프로그램을 종료합니다.')\n",
    "        break\n",
    "        \n",
    "    else :\n",
    "        print('유효하지 않은 카테고리입니다.')"
   ]
  },
  {
   "cell_type": "code",
   "execution_count": 21,
   "id": "e5e413f4-22fb-4665-b1f5-176b7da666eb",
   "metadata": {},
   "outputs": [
    {
     "name": "stdin",
     "output_type": "stream",
     "text": [
      "\n",
      "-------------------------------------------------------------\n",
      "1. 메뉴입력 2. 메뉴수정 3. 메뉴목록 4. 메뉴삭제 5. 프로그램종료\n",
      "-------------------------------------------------------------\n",
      "메뉴선택 >>>  5\n"
     ]
    },
    {
     "name": "stdout",
     "output_type": "stream",
     "text": [
      "프로그램을 종료합니다.\n"
     ]
    }
   ],
   "source": [
    "##### 강사님\n",
    "menu = {'아이스아메리카노' : 3000, '라떼' : 4000, '코코아' : 3500}\n",
    "while True:\n",
    "    choice= input('''\n",
    "-------------------------------------------------------------\n",
    "1. 메뉴입력 2. 메뉴수정 3. 메뉴목록 4. 메뉴삭제 5. 프로그램종료\n",
    "-------------------------------------------------------------\n",
    "메뉴선택 >>> ''')\n",
    "    if choice == '1':\n",
    "        print('현재메뉴 :', list(menu.keys()))\n",
    "        name = input('추가할 메뉴명을 입력하세요 >>> ')\n",
    "        price = 'a'\n",
    "        while not price.isdecimal():\n",
    "            price = input('추가할 메뉴의 가격을 입력하세요 >>> ')\n",
    "        menu[name] = int(price)\n",
    "    elif choice == '2':\n",
    "        print('현재메뉴 :', list(menu.keys()))\n",
    "        name = ''\n",
    "        while not name in menu.keys():\n",
    "            name = input('수정할 메뉴명을 입력하세요 >>> ')\n",
    "        price = 'a'\n",
    "        while not price.isdecimal():\n",
    "            price = input('수정할 메뉴의 가격을 입력하세요 >>> ')\n",
    "        menu[name] = int(price)\n",
    "    elif choice == '3':\n",
    "        print('----- menu -----')\n",
    "        for item in sorted(menu.items()):\n",
    "            print(f'{item[0]} : {item[1]:10,}') #10,에서 콤마가 천단위 구분\n",
    "    elif choice == '4':\n",
    "        print('현재메뉴 :', list(menu.keys()))\n",
    "        name = ''\n",
    "        while not name in menu.keys():\n",
    "            name = input('삭제할 메뉴명을 입력하세요 >>> ')\n",
    "        del menu[name]\n",
    "    elif choice == '5' :\n",
    "        print('프로그램을 종료합니다.')\n",
    "        break\n",
    "    else:\n",
    "         print('메뉴를 잘못 선택하셨습니다.')"
   ]
  },
  {
   "cell_type": "raw",
   "id": "fd84e031-4cee-43d4-8a39-7cf83b563619",
   "metadata": {},
   "source": [
    "quiz 04>\n",
    "quiz 03에 내용을 프로그램 시작시 읽어오고 프로그램 종료시에 저장"
   ]
  },
  {
   "cell_type": "code",
   "execution_count": 1,
   "id": "f51fb1f6-77cb-44a0-999e-9ce37d986ee5",
   "metadata": {},
   "outputs": [],
   "source": [
    "file = open('hello.txt', 'w')  #r:읽기모드(파일이 있어야 동작), w:쓰기모드(파일을 새로 만듦)"
   ]
  },
  {
   "cell_type": "code",
   "execution_count": 2,
   "id": "6631c008-f2b4-4b4f-aa73-afc357dcc490",
   "metadata": {},
   "outputs": [
    {
     "data": {
      "text/plain": [
       "12"
      ]
     },
     "execution_count": 2,
     "metadata": {},
     "output_type": "execute_result"
    }
   ],
   "source": [
    "file.write('hello world!')"
   ]
  },
  {
   "cell_type": "code",
   "execution_count": 3,
   "id": "cc8f0255-e3e2-4d4b-96d5-e55f33d9e712",
   "metadata": {},
   "outputs": [],
   "source": [
    "file.close() #무조건 해줘야 함"
   ]
  },
  {
   "cell_type": "code",
   "execution_count": 9,
   "id": "a4387fe8-3571-43a4-bf57-217bf764b3f4",
   "metadata": {},
   "outputs": [],
   "source": [
    "file = open('hello.txt','r')\n",
    "text = file.read()"
   ]
  },
  {
   "cell_type": "code",
   "execution_count": 10,
   "id": "ced97be9-8d9b-41dc-92db-68676eaf3093",
   "metadata": {},
   "outputs": [
    {
     "data": {
      "text/plain": [
       "'hello world!\\nhello world!\\nhello world!\\nhello world!\\nhello world!\\nhello world!\\nhello world!'"
      ]
     },
     "execution_count": 10,
     "metadata": {},
     "output_type": "execute_result"
    }
   ],
   "source": [
    "text"
   ]
  },
  {
   "cell_type": "code",
   "execution_count": 14,
   "id": "e42b4dc9-7a78-4bbf-81d3-6843f8b58102",
   "metadata": {},
   "outputs": [
    {
     "data": {
      "text/plain": [
       "'hello world!\\n'"
      ]
     },
     "execution_count": 14,
     "metadata": {},
     "output_type": "execute_result"
    }
   ],
   "source": [
    "file = open('hello.txt','r')\n",
    "textline = file.readline() #한 줄만 읽어옴\n",
    "textline"
   ]
  },
  {
   "cell_type": "code",
   "execution_count": 15,
   "id": "3d1e668a-8cdc-4bd2-a719-4c63ab92beb6",
   "metadata": {},
   "outputs": [
    {
     "data": {
      "text/plain": [
       "['hello world!\\n',\n",
       " 'hello world!\\n',\n",
       " 'hello world!\\n',\n",
       " 'hello world!\\n',\n",
       " 'hello world!\\n',\n",
       " 'hello world!\\n',\n",
       " 'hello world!']"
      ]
     },
     "execution_count": 15,
     "metadata": {},
     "output_type": "execute_result"
    }
   ],
   "source": [
    "file = open('hello.txt','r')\n",
    "textlines = file.readlines() #줄별로 띄워서 모두 읽어옴\n",
    "textlines"
   ]
  },
  {
   "cell_type": "code",
   "execution_count": 17,
   "id": "ca6cbd19-136e-4d0e-b20a-afe37dc37422",
   "metadata": {},
   "outputs": [],
   "source": [
    "file.close()"
   ]
  },
  {
   "cell_type": "code",
   "execution_count": 19,
   "id": "2d19c85e-39cb-4bc9-9ce3-66e051c0c29e",
   "metadata": {},
   "outputs": [],
   "source": [
    "import pickle"
   ]
  },
  {
   "cell_type": "code",
   "execution_count": 22,
   "id": "9e345fa1-e6e6-4e36-9812-64ecf75c1625",
   "metadata": {},
   "outputs": [
    {
     "data": {
      "text/plain": [
       "{'아이스아메리카노': 3000, '라떼': 4000, '코코아': 3500}"
      ]
     },
     "execution_count": 22,
     "metadata": {},
     "output_type": "execute_result"
    }
   ],
   "source": [
    "menu"
   ]
  },
  {
   "cell_type": "code",
   "execution_count": 25,
   "id": "4d779c84-0b94-4404-8acf-5e4f2d7b25ee",
   "metadata": {},
   "outputs": [],
   "source": [
    "f = open('menu.pickle', 'wb') #확장자는 상관없음 #pickle은 byte형태라 'wb':그 데이터 그대로 :text기반 빼고는 다 b를 붙인다.\n",
    "pickle.dump(menu, f) #dump:저장, load: 읽기\n",
    "f.close()"
   ]
  },
  {
   "cell_type": "code",
   "execution_count": 26,
   "id": "23b68c79-ded6-4805-ac17-f3c2601cc2bd",
   "metadata": {},
   "outputs": [],
   "source": [
    "f = open('menu.pickle','rb')\n",
    "data = pickle.load(f)\n",
    "f.close()"
   ]
  },
  {
   "cell_type": "code",
   "execution_count": 27,
   "id": "accf37a4-9419-4149-9cc0-7b7a2900c5a5",
   "metadata": {},
   "outputs": [
    {
     "data": {
      "text/plain": [
       "dict"
      ]
     },
     "execution_count": 27,
     "metadata": {},
     "output_type": "execute_result"
    }
   ],
   "source": [
    "type(data)"
   ]
  },
  {
   "cell_type": "code",
   "execution_count": 29,
   "id": "dd33a840-12cb-45b8-8a47-4cd958d713c6",
   "metadata": {},
   "outputs": [
    {
     "data": {
      "text/plain": [
       "{'아이스아메리카노': 3000, '라떼': 4000, '코코아': 3500}"
      ]
     },
     "execution_count": 29,
     "metadata": {},
     "output_type": "execute_result"
    }
   ],
   "source": [
    "data"
   ]
  },
  {
   "cell_type": "code",
   "execution_count": 30,
   "id": "9f63674f-40cd-4caa-9304-2deb26fb0e63",
   "metadata": {},
   "outputs": [],
   "source": [
    "import json"
   ]
  },
  {
   "cell_type": "code",
   "execution_count": 32,
   "id": "23ad178d-de88-415a-af40-ae753f0f653d",
   "metadata": {},
   "outputs": [],
   "source": [
    "f = open('menu.json', 'w') #json은 text기반이라 b 필요 없음\n",
    "json.dump(menu, f) #dump:저장, load: 읽기\n",
    "f.close()"
   ]
  },
  {
   "cell_type": "code",
   "execution_count": 33,
   "id": "581cf2a5-d95e-4714-972b-223fc1d14dd0",
   "metadata": {},
   "outputs": [],
   "source": [
    "f = open('menu.json', 'r')\n",
    "data = json.load(f)\n",
    "f.close()"
   ]
  },
  {
   "cell_type": "code",
   "execution_count": 34,
   "id": "4392aadc-97e9-4a48-a60e-4575b47dee00",
   "metadata": {},
   "outputs": [
    {
     "data": {
      "text/plain": [
       "dict"
      ]
     },
     "execution_count": 34,
     "metadata": {},
     "output_type": "execute_result"
    }
   ],
   "source": [
    "type(data)"
   ]
  },
  {
   "cell_type": "code",
   "execution_count": 35,
   "id": "bd191f86-378a-4963-8077-89478e8c81ef",
   "metadata": {},
   "outputs": [
    {
     "data": {
      "text/plain": [
       "{'아이스아메리카노': 3000, '라떼': 4000, '코코아': 3500}"
      ]
     },
     "execution_count": 35,
     "metadata": {},
     "output_type": "execute_result"
    }
   ],
   "source": [
    "data"
   ]
  },
  {
   "cell_type": "code",
   "execution_count": 44,
   "id": "ba39587a-5b1c-4309-b805-142e97f74e15",
   "metadata": {},
   "outputs": [
    {
     "name": "stdin",
     "output_type": "stream",
     "text": [
      "\n",
      "-------------------------------------------------------------\n",
      "1. 메뉴입력 2. 메뉴수정 3. 메뉴목록 4. 메뉴삭제 5. 프로그램종료\n",
      "-------------------------------------------------------------\n",
      "메뉴선택 >>>  3\n"
     ]
    },
    {
     "name": "stdout",
     "output_type": "stream",
     "text": [
      "----- menu -----\n",
      "라떼 :      4,000\n",
      "아이스아메리카노 :      3,000\n",
      "우유 :      2,000\n",
      "코코아 :      3,500\n"
     ]
    },
    {
     "name": "stdin",
     "output_type": "stream",
     "text": [
      "\n",
      "-------------------------------------------------------------\n",
      "1. 메뉴입력 2. 메뉴수정 3. 메뉴목록 4. 메뉴삭제 5. 프로그램종료\n",
      "-------------------------------------------------------------\n",
      "메뉴선택 >>>  5\n"
     ]
    },
    {
     "name": "stdout",
     "output_type": "stream",
     "text": [
      "프로그램을 종료합니다.\n"
     ]
    }
   ],
   "source": [
    "import json\n",
    "\n",
    "f = open('menu.json', 'r')\n",
    "menu = json.load(f)\n",
    "f.close()\n",
    "\n",
    "# menu = {'아이스아메리카노' : 3000, '라떼' : 4000, '코코아' : 3500}\n",
    "while True:\n",
    "    choice= input('''\n",
    "-------------------------------------------------------------\n",
    "1. 메뉴입력 2. 메뉴수정 3. 메뉴목록 4. 메뉴삭제 5. 프로그램종료\n",
    "-------------------------------------------------------------\n",
    "메뉴선택 >>> ''')\n",
    "    if choice == '1':\n",
    "        print('현재메뉴 :', list(menu.keys()))\n",
    "        name = input('추가할 메뉴명을 입력하세요 >>> ')\n",
    "        price = 'a'\n",
    "        while not price.isdecimal():\n",
    "            price = input('추가할 메뉴의 가격을 입력하세요 >>> ')\n",
    "        menu[name] = int(price)\n",
    "    elif choice == '2':\n",
    "        print('현재메뉴 :', list(menu.keys()))\n",
    "        name = ''\n",
    "        while not name in menu.keys():\n",
    "            name = input('수정할 메뉴명을 입력하세요 >>> ')\n",
    "        price = 'a'\n",
    "        while not price.isdecimal():\n",
    "            price = input('수정할 메뉴의 가격을 입력하세요 >>> ')\n",
    "        menu[name] = int(price)\n",
    "    elif choice == '3':\n",
    "        print('----- menu -----')\n",
    "        for item in sorted(menu.items()):\n",
    "            print(f'{item[0]} : {item[1]:10,}') #10,에서 콤마가 천단위 구분\n",
    "    elif choice == '4':\n",
    "        print('현재메뉴 :', list(menu.keys()))\n",
    "        name = ''\n",
    "        while not name in menu.keys():\n",
    "            name = input('삭제할 메뉴명을 입력하세요 >>> ')\n",
    "        del menu[name]\n",
    "    elif choice == '5' :\n",
    "        print('프로그램을 종료합니다.')\n",
    "        f = open('menu.json', 'w')\n",
    "        json.dump(menu, f)\n",
    "        f.close()\n",
    "        break\n",
    "    else:\n",
    "         print('메뉴를 잘못 선택하셨습니다.')"
   ]
  },
  {
   "cell_type": "code",
   "execution_count": 37,
   "id": "ca757687-ac72-43ce-838f-088c03e5df91",
   "metadata": {},
   "outputs": [],
   "source": [
    "quiz 5>\n",
    "타자게임\n",
    "- 데이터는 word = ['cat', 'dog', 'fox', 'monkey', 'mouse', 'panda', 'frog', 'snake', 'wolf']\n",
    "- 문제는 총 5문제가 나옵니다.\n",
    "- 나온 문제는 맞힐 때까지 계속됩니다.\n",
    "- 문제를 맞히면 다음 문제가 나옵니다."
   ]
  },
  {
   "cell_type": "code",
   "execution_count": 38,
   "id": "9fbd704c-a1b4-4581-9023-6c3bfc4fcf3b",
   "metadata": {},
   "outputs": [
    {
     "data": {
      "text/plain": [
       "{'아이스아메리카노': 3000, '라떼': 4000, '코코아': 3500}"
      ]
     },
     "execution_count": 38,
     "metadata": {},
     "output_type": "execute_result"
    }
   ],
   "source": []
  },
  {
   "cell_type": "code",
   "execution_count": null,
   "id": "42fb0ab9-ed38-4466-9a38-bdf66370ff7b",
   "metadata": {},
   "outputs": [],
   "source": []
  }
 ],
 "metadata": {
  "kernelspec": {
   "display_name": "Python 3 (ipykernel)",
   "language": "python",
   "name": "python3"
  },
  "language_info": {
   "codemirror_mode": {
    "name": "ipython",
    "version": 3
   },
   "file_extension": ".py",
   "mimetype": "text/x-python",
   "name": "python",
   "nbconvert_exporter": "python",
   "pygments_lexer": "ipython3",
   "version": "3.9.7"
  }
 },
 "nbformat": 4,
 "nbformat_minor": 5
}
