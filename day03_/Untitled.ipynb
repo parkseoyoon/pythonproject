{
 "cells": [
  {
   "cell_type": "code",
   "execution_count": 3,
   "id": "de449038-b25b-426d-8054-d8095d3eb51a",
   "metadata": {},
   "outputs": [
    {
     "name": "stdin",
     "output_type": "stream",
     "text": [
      "\n",
      "다음 중에서 하실 일을 골라주세요 :\n",
      "I - 입력 \t S - 판매 \t L- 재고 리스트 \t D-삭제 \t Q-종료\n",
      ">>>  d\n"
     ]
    },
    {
     "name": "stdout",
     "output_type": "stream",
     "text": [
      "재고가 있습니다\n"
     ]
    },
    {
     "name": "stdin",
     "output_type": "stream",
     "text": [
      "\n",
      "다음 중에서 하실 일을 골라주세요 :\n",
      "I - 입력 \t S - 판매 \t L- 재고 리스트 \t D-삭제 \t Q-종료\n",
      ">>>  d\n"
     ]
    },
    {
     "name": "stdout",
     "output_type": "stream",
     "text": [
      "재고가 있습니다\n"
     ]
    },
    {
     "name": "stdin",
     "output_type": "stream",
     "text": [
      "\n",
      "다음 중에서 하실 일을 골라주세요 :\n",
      "I - 입력 \t S - 판매 \t L- 재고 리스트 \t D-삭제 \t Q-종료\n",
      ">>>  q\n"
     ]
    },
    {
     "name": "stdout",
     "output_type": "stream",
     "text": [
      "프로그램을 종료합니다\n"
     ]
    }
   ],
   "source": [
    "import json           \n",
    "\n",
    "fruitlist=[]\n",
    "fruitlist=[{'product': '사과', 'stock': 20, 'price': 1000, 'receive': 20220510, 'sweet':4}, {'product': '바나나', 'stock': 15, 'price': 500, 'receive': 20220508, 'sweet':2}, {'product': '토마토', 'stock': 25, 'price': 1500, 'receive': 20220506, 'sweet':3}]\n",
    "\n",
    "# with open('fruitlist.json','r') as f:\n",
    "#     fruitlist = json.load(f)\n",
    "\n",
    "\n",
    "while True:\n",
    "    choice=input('''\n",
    "다음 중에서 하실 일을 골라주세요 :\n",
    "I - 입력 \\t S - 판매 \\t L- 재고 리스트 \\t D-삭제 \\t Q-종료\n",
    ">>> ''').upper()\n",
    "\n",
    "    if choice == 'I':\n",
    "        print(fruitlist)\n",
    "        fruit = {'product':'','stock':'','price':'','receive':'','sweet':''}\n",
    "        fruit['product'] = input('추가할 과일명을 입력하세요 >>>')\n",
    "\n",
    "        while True: \n",
    "            fruit['stock'] = input('추가할 수량를 입력하세요 >>>')\n",
    "            if fruit['stock'].isdecimal():\n",
    "                fruit['stock'] = int(fruit['stock'])\n",
    "                break\n",
    "\n",
    "        while True:\n",
    "            fruit['price'] = input('가격을 입력하세요 >>>')\n",
    "            if fruit['price'].isdecimal():\n",
    "                fruit['price'] = int(fruit['price'])\n",
    "                break       \n",
    "\n",
    "        while True:\n",
    "            fruit['receive'] = input('입고일자 8자리를 입력하세요 >>> ')\n",
    "            if len(fruit['receive']) == 8 and fruit['receive'].isdecimal():\n",
    "                fruit['receive'] = int(fruit['receive'])\n",
    "                break                                     \n",
    "\n",
    "        while True:\n",
    "            fruit['sweet'] = input('과일의 당도를 입력하세요 >>> ')\n",
    "            if fruit['sweet'].isdecimal() and int(fruit['sweet']) in range(1,6): \n",
    "                fruit['sweet'] = int(fruit['sweet'])               \n",
    "                break                              \n",
    "            \n",
    "        fruitlist.append(fruit)\n",
    "        print(fruitlist)\n",
    "        # with open('fruitlist.json','w') as f:\n",
    "        #     json.dump(fruitlist,f)\n",
    "\n",
    "    elif choice == 'S':\n",
    "        while True:\n",
    "            productlist = []\n",
    "            for item in fruitlist:\n",
    "                print(item['product'])\n",
    "                productlist.append(item['product'])\n",
    "        \n",
    "            product = input('판매한 과일을 입력하세요 >>> ')\n",
    "            if product == 'q':\n",
    "                break\n",
    "\n",
    "            elif product in productlist:\n",
    "                idx = ''\n",
    "                for i in range(len(fruitlist)):\n",
    "                    if fruitlist[i]['product']==product:\n",
    "                        idx = i\n",
    "                        break\n",
    "                \n",
    "                count = input('판매한 수량을 입력하세요 >>> ')\n",
    "                fruitlist[idx]['stock'] -= int(count)\n",
    "                \n",
    "                print(f\"{count}개를 판매하여 {fruitlist[idx]['stock']}개가 남았습니다.\")\n",
    "                # with open('fruitlist.json','w') as f:\n",
    "                #     json.dump(fruitlist,f)\n",
    "                break\n",
    "                                   \n",
    "    elif choice == 'L':\n",
    "        while True:\n",
    "            choice = input('''\n",
    "다음 중에서 분류하실 종목을 골라주세요 :\n",
    "1. product \\t 2.stock \\t 3.receive \\t 4.sweet\n",
    ">>> ''')\n",
    "            if choice == '1':\n",
    "                data = sorted(fruitlist, key = lambda fruitlist: fruitlist['product'])\n",
    "                for d in data:\n",
    "                    print(d)\n",
    "            \n",
    "            elif choice == '2':\n",
    "                data = sorted(fruitlist, key = lambda fruitlist: fruitlist['stock'])\n",
    "                for d in data:\n",
    "                    print(d)\n",
    "\n",
    "            elif choice == '3':\n",
    "                data = sorted(fruitlist, key = lambda fruitlist: fruitlist['receive'])\n",
    "                for d in data:\n",
    "                    print(d)\n",
    "\n",
    "            elif choice == '4':\n",
    "                data = sorted(fruitlist, key = lambda fruitlist: fruitlist['sweet'],reverse=True)\n",
    "                for d in data:\n",
    "                    print(d)\n",
    "\n",
    "            else:\n",
    "                print('다시 선택해주세요')\n",
    "                break\n",
    "\n",
    "    elif choice == 'D':\n",
    "        for idx in range(len(fruitlist)):\n",
    "            if fruitlist[idx]['stock'] == 0:\n",
    "                print('품절: ',fruitlist[idx])\n",
    "            else:\n",
    "                print('재고가 있습니다')\n",
    "                break\n",
    "            \n",
    "    elif choice == 'Q':\n",
    "        print('프로그램을 종료합니다')\n",
    "        # with open('fruitlist.json','w') as f:\n",
    "        #     json.dump(fruitlist,f)\n",
    "        break\n",
    "\n",
    "    else:\n",
    "        print('다시 입력해주세요')"
   ]
  }
 ],
 "metadata": {
  "kernelspec": {
   "display_name": "Python 3 (ipykernel)",
   "language": "python",
   "name": "python3"
  },
  "language_info": {
   "codemirror_mode": {
    "name": "ipython",
    "version": 3
   },
   "file_extension": ".py",
   "mimetype": "text/x-python",
   "name": "python",
   "nbconvert_exporter": "python",
   "pygments_lexer": "ipython3",
   "version": "3.9.7"
  }
 },
 "nbformat": 4,
 "nbformat_minor": 5
}
