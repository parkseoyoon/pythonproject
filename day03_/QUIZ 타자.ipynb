{
 "cells": [
  {
   "cell_type": "markdown",
   "id": "c653fdd3-5f3b-456a-b3e7-6dfcb1cd2b21",
   "metadata": {},
   "source": [
    "QUIZ 5 <타자게임>"
   ]
  },
  {
   "cell_type": "raw",
   "id": "3cb8af3e-0e5e-407b-8e60-0ed8322f3cd3",
   "metadata": {},
   "source": [
    "타자게임\n",
    "- 데이터는 word = ['cat', 'dog', 'fox', 'monkey', 'mouse', 'panda', 'frog', 'snake', 'wolf']\n",
    "- 문제는 총 5문제가 나옵니다.\n",
    "- 나온 문제는 맞힐 때까지 계속됩니다.\n",
    "- 문제를 맞히면 다음 문제가 나옵니다.\n",
    "- 걸린 시간을 보여줍니다."
   ]
  },
  {
   "cell_type": "code",
   "execution_count": 1,
   "id": "75c2f93e-615d-4d73-b17f-43775dfbba2b",
   "metadata": {},
   "outputs": [],
   "source": [
    "import random"
   ]
  },
  {
   "cell_type": "code",
   "execution_count": 2,
   "id": "d1d36082-2c57-442b-8583-136baba4a6da",
   "metadata": {},
   "outputs": [],
   "source": [
    "word = ['cat', 'dog', 'fox', 'monkey', 'mouse', 'panda', 'frog', 'snake', 'wolf', 'apple', 'banana', 'strawberry']"
   ]
  },
  {
   "cell_type": "code",
   "execution_count": 17,
   "id": "3f11b841-f84a-4112-a71a-a8f824716bce",
   "metadata": {},
   "outputs": [
    {
     "data": {
      "text/plain": [
       "'wolf'"
      ]
     },
     "execution_count": 17,
     "metadata": {},
     "output_type": "execute_result"
    }
   ],
   "source": [
    "random.choice(word)"
   ]
  },
  {
   "cell_type": "code",
   "execution_count": 51,
   "id": "e112fafa-621c-497e-a2a5-04ad384dfa48",
   "metadata": {},
   "outputs": [
    {
     "data": {
      "text/plain": [
       "'panda'"
      ]
     },
     "execution_count": 51,
     "metadata": {},
     "output_type": "execute_result"
    }
   ],
   "source": [
    "word[random.randint(0, len(word)-1)]"
   ]
  },
  {
   "cell_type": "code",
   "execution_count": 68,
   "id": "c20456da-61ee-4cd9-ac40-52adbfb4d3b3",
   "metadata": {},
   "outputs": [
    {
     "name": "stdin",
     "output_type": "stream",
     "text": [
      "시작!(enter) \n"
     ]
    },
    {
     "name": "stdout",
     "output_type": "stream",
     "text": [
      "Q1 :  strawberry\n"
     ]
    },
    {
     "name": "stdin",
     "output_type": "stream",
     "text": [
      "A :  strawberry\n"
     ]
    },
    {
     "name": "stdout",
     "output_type": "stream",
     "text": [
      "정답입니다.\n",
      "Q2 :  dog\n"
     ]
    },
    {
     "name": "stdin",
     "output_type": "stream",
     "text": [
      "A :  og\n",
      "틀렸습니다. 다시 입력하세요:  dgo\n",
      "틀렸습니다. 다시 입력하세요:  dog\n"
     ]
    },
    {
     "name": "stdout",
     "output_type": "stream",
     "text": [
      "정답입니다.\n",
      "Q3 :  snake\n"
     ]
    },
    {
     "name": "stdin",
     "output_type": "stream",
     "text": [
      "A :  snake\n"
     ]
    },
    {
     "name": "stdout",
     "output_type": "stream",
     "text": [
      "정답입니다.\n",
      "Q4 :  banana\n"
     ]
    },
    {
     "name": "stdin",
     "output_type": "stream",
     "text": [
      "A :  banana\n"
     ]
    },
    {
     "name": "stdout",
     "output_type": "stream",
     "text": [
      "정답입니다.\n",
      "Q5 :  mouse\n"
     ]
    },
    {
     "name": "stdin",
     "output_type": "stream",
     "text": [
      "A :  mouse\n"
     ]
    },
    {
     "name": "stdout",
     "output_type": "stream",
     "text": [
      "정답입니다.\n",
      "완료되었습니다.\n",
      "걸린시간:10초\n"
     ]
    }
   ],
   "source": [
    "##나\n",
    "import random, time\n",
    "word = ['cat', 'dog', 'fox', 'monkey', 'mouse', 'panda', 'frog', 'snake', 'wolf', 'apple', 'banana', 'strawberry']\n",
    "input('시작!(enter)')\n",
    "start = time.time()\n",
    "for i in range(1, 6):\n",
    "    Q = random.choice(word)\n",
    "    print('Q%d : '%i, Q)\n",
    "    A = input('A : ')\n",
    "    while Q != A:\n",
    "        A = input('틀렸습니다. 다시 입력하세요: ')\n",
    "    if Q == A:\n",
    "        print('정답입니다.')\n",
    "print('완료되었습니다.')\n",
    "end = time.time()\n",
    "print(f'걸린시간:{end-start:.0f}초')"
   ]
  },
  {
   "cell_type": "code",
   "execution_count": 64,
   "id": "25d32d78-23b7-4df7-aa47-9334861f84ff",
   "metadata": {},
   "outputs": [
    {
     "name": "stdout",
     "output_type": "stream",
     "text": [
      "Q1.000000\n",
      "Q2.000000\n",
      "Q3.000000\n",
      "Q4.000000\n",
      "Q5.000000\n"
     ]
    }
   ],
   "source": [
    "for i in range(1,6):\n",
    "    print('Q%f'%(i))"
   ]
  },
  {
   "cell_type": "code",
   "execution_count": 81,
   "id": "a080e28e-7ab6-4d16-8418-ea3a1aa09bf3",
   "metadata": {},
   "outputs": [
    {
     "name": "stdin",
     "output_type": "stream",
     "text": [
      "시작!(enter) \n"
     ]
    },
    {
     "name": "stdout",
     "output_type": "stream",
     "text": [
      "1번\n",
      "wolf\n"
     ]
    },
    {
     "name": "stdin",
     "output_type": "stream",
     "text": [
      " wolf\n"
     ]
    },
    {
     "name": "stdout",
     "output_type": "stream",
     "text": [
      "통과!\n",
      "2번\n",
      "cat\n"
     ]
    },
    {
     "name": "stdin",
     "output_type": "stream",
     "text": [
      " cat\n"
     ]
    },
    {
     "name": "stdout",
     "output_type": "stream",
     "text": [
      "통과!\n",
      "3번\n",
      "frog\n"
     ]
    },
    {
     "name": "stdin",
     "output_type": "stream",
     "text": [
      " frog\n"
     ]
    },
    {
     "name": "stdout",
     "output_type": "stream",
     "text": [
      "통과!\n",
      "4번\n",
      "frog\n"
     ]
    },
    {
     "name": "stdin",
     "output_type": "stream",
     "text": [
      " frog\n"
     ]
    },
    {
     "name": "stdout",
     "output_type": "stream",
     "text": [
      "통과!\n",
      "5번\n",
      "monkey\n"
     ]
    },
    {
     "name": "stdin",
     "output_type": "stream",
     "text": [
      " monkey\n"
     ]
    },
    {
     "name": "stdout",
     "output_type": "stream",
     "text": [
      "통과!\n",
      "5문제 다 맞혔습니다.\n",
      "걸린시간:1652329474초\n"
     ]
    }
   ],
   "source": [
    "###강사님\n",
    "import random, time\n",
    "word = ['cat', 'dog', 'fox', 'monkey', 'mouse', 'panda', 'frog', 'snake', 'wolf', 'apple', 'banana', 'strawberry']\n",
    "n = 1\n",
    "quiz = random.choice(word)\n",
    "input('시작!(enter)')\n",
    "start = time.time()\n",
    "while n <= 5:\n",
    "    print(f'{n}번')\n",
    "    print(quiz)\n",
    "    x = input()\n",
    "    if quiz == x:\n",
    "        print('통과!')\n",
    "        n += 1\n",
    "        quiz = random.choice(word)\n",
    "    else:\n",
    "        print('오타! 다시 도전!')\n",
    "print('5문제 다 맞혔습니다.')\n",
    "end = time.time()\n",
    "print(f'걸린시간:{end-start:.0f}초')"
   ]
  },
  {
   "cell_type": "markdown",
   "id": "84a52ab9-a3ab-4323-872a-f5ee5848e901",
   "metadata": {},
   "source": [
    "QUIZ 06 저장"
   ]
  },
  {
   "cell_type": "raw",
   "id": "fd83711f-3ab8-4c7d-bf40-4849553e017d",
   "metadata": {},
   "source": [
    "앞의 타자 게임을 활용\n",
    "- 1. 문제추가 2. 타자게임 3. 등수리스트 4. 종료하기\n",
    "- 문제추가 후 데이터는 파일 저장\n",
    "- 문제추가는 단어를 입력받아서 중복되지 않게 추가, 종료 전까지 계속 추가작업 진행\n",
    "- 타자게임은 시간을 체크하고, 걸린시간을 사용자명과 함께 저장합니다. (딕셔너리로 저장 : 등수데이터)\n",
    "- 등수리스트는 걸린 시간이 적은 순서대로 정렬해서 출력합니다.\n",
    "- 종료하기는 등수데이터를 저장하고 진행합니다.\n",
    "- 프로그램이 시작될 때 문제와 등수정보를 읽어옵니다."
   ]
  },
  {
   "cell_type": "code",
   "execution_count": 116,
   "id": "b64b36be-2b05-47d2-9ff3-837a6a2d2271",
   "metadata": {
    "tags": []
   },
   "outputs": [
    {
     "ename": "SyntaxError",
     "evalue": "invalid syntax (Temp/ipykernel_1444/3780999102.py, line 51)",
     "output_type": "error",
     "traceback": [
      "\u001b[1;36m  File \u001b[1;32m\"C:\\Users\\Admin\\AppData\\Local\\Temp/ipykernel_1444/3780999102.py\"\u001b[1;36m, line \u001b[1;32m51\u001b[0m\n\u001b[1;33m    for i in range(1, len(grade))\u001b[0m\n\u001b[1;37m                                 ^\u001b[0m\n\u001b[1;31mSyntaxError\u001b[0m\u001b[1;31m:\u001b[0m invalid syntax\n"
     ]
    }
   ],
   "source": [
    "import random, time, json\n",
    "f = open('word.json', 'w')\n",
    "json.dump(word, f)\n",
    "f.close()\n",
    "f = open('word.json', 'r')\n",
    "word = json.load(f)\n",
    "f.close()\n",
    "\n",
    "\n",
    "#word = ['cat', 'dog', 'fox', 'monkey', 'mouse', 'panda', 'frog', 'snake', 'wolf', 'apple', 'banana', 'strawberry']\n",
    "\n",
    "while True:\n",
    "    x = input('''무엇을 하시겠습니까?\n",
    "    1. 문제추가 2. 타자게임 3. 등수리스트보기 4. 종료하기''')\n",
    "    if x == '1' :\n",
    "        new = input('영단어를 입력하세요 : ')\n",
    "        word.append(new)\n",
    "        f = open('word.json', 'w')\n",
    "        json.dump(word, f)\n",
    "        f.close()\n",
    "        print('추가되었습니다.')\n",
    "    \n",
    "    elif x == '2' :\n",
    "        quiz = random.choice(word)\n",
    "        input('시작!(enter)')\n",
    "        start = time.time()\n",
    "        while n <= 5:\n",
    "            print(f'{n}번')\n",
    "            print(quiz)\n",
    "            x = input()\n",
    "            if quiz == x:\n",
    "                print('통과!')\n",
    "                n += 1\n",
    "                quiz = random.choice(word)\n",
    "            else:\n",
    "                print('오타! 다시 도전!')\n",
    "        print('5문제 다 맞혔습니다.')\n",
    "        end = time.time()\n",
    "        print(f'걸린시간:{end-start:.0f}초')\n",
    "        time = end-start\n",
    "        name = input('사용자 이름 : ')\n",
    "        grade = {} #등수\n",
    "        grade[name] = int(time)\n",
    "        g = open('grade.json', 'w')\n",
    "        json.dumps(grade)\n",
    "        g.close()\n",
    "        \n",
    "    elif x == '3' :\n",
    "        print('<등수리스트>')\n",
    "        for item in sorted(grade.items()):\n",
    "            for i in range(1, len(grade))\n",
    "            print(f'%d.{item[0]}:{item[1]}초'%i)\n",
    "        \n",
    "    elif x == '4' :\n",
    "        print('프로그램을 종료합니다.')\n",
    "        break\n",
    "    else :\n",
    "        print('잘못 입력하였습니다.')"
   ]
  },
  {
   "cell_type": "code",
   "execution_count": null,
   "id": "c774e907-fcbb-4bd0-bdb9-4f9d9c296ff5",
   "metadata": {},
   "outputs": [],
   "source": [
    "for item in sorted(menu.items()):\n",
    "            print(f'{item[0]} : {item[1]:10,}')\n",
    "        sorted(dict1.items(), key=lambda data:data[1]"
   ]
  },
  {
   "cell_type": "code",
   "execution_count": 108,
   "id": "b3ad0a8a-1a21-43bd-b6cf-cf3c2154adbc",
   "metadata": {},
   "outputs": [],
   "source": [
    "import json\n",
    "g = open('grade.json', 'w')\n",
    "grade = json.dump(grade, g)\n",
    "g.close()\n",
    "g = open('grade.json', 'r')\n",
    "grade = json.load("
   ]
  },
  {
   "cell_type": "code",
   "execution_count": 104,
   "id": "1bcef686-ef34-4493-b5f1-056161b5c02f",
   "metadata": {
    "collapsed": true,
    "jupyter": {
     "outputs_hidden": true
    },
    "tags": []
   },
   "outputs": [
    {
     "name": "stdin",
     "output_type": "stream",
     "text": [
      "시작!(enter) \n"
     ]
    },
    {
     "name": "stdout",
     "output_type": "stream",
     "text": [
      "1번\n",
      "dog\n"
     ]
    },
    {
     "name": "stdin",
     "output_type": "stream",
     "text": [
      " dog\n"
     ]
    },
    {
     "name": "stdout",
     "output_type": "stream",
     "text": [
      "통과!\n",
      "2번\n",
      "monkey\n"
     ]
    },
    {
     "name": "stdin",
     "output_type": "stream",
     "text": [
      " monkey\n"
     ]
    },
    {
     "name": "stdout",
     "output_type": "stream",
     "text": [
      "통과!\n",
      "3번\n",
      "apple\n"
     ]
    },
    {
     "name": "stdin",
     "output_type": "stream",
     "text": [
      " apple\n"
     ]
    },
    {
     "name": "stdout",
     "output_type": "stream",
     "text": [
      "통과!\n",
      "4번\n",
      "cat\n"
     ]
    },
    {
     "name": "stdin",
     "output_type": "stream",
     "text": [
      " cat\n"
     ]
    },
    {
     "name": "stdout",
     "output_type": "stream",
     "text": [
      "통과!\n",
      "5번\n",
      "panda\n"
     ]
    },
    {
     "name": "stdin",
     "output_type": "stream",
     "text": [
      " panda\n"
     ]
    },
    {
     "name": "stdout",
     "output_type": "stream",
     "text": [
      "통과!\n",
      "5문제 다 맞혔습니다.\n",
      "걸린시간:8초\n"
     ]
    },
    {
     "name": "stdin",
     "output_type": "stream",
     "text": [
      "사용자 이름 :  a\n"
     ]
    },
    {
     "ename": "TypeError",
     "evalue": "the JSON object must be str, bytes or bytearray, not TextIOWrapper",
     "output_type": "error",
     "traceback": [
      "\u001b[1;31m---------------------------------------------------------------------------\u001b[0m",
      "\u001b[1;31mTypeError\u001b[0m                                 Traceback (most recent call last)",
      "\u001b[1;32m~\\AppData\\Local\\Temp/ipykernel_1444/2887691784.py\u001b[0m in \u001b[0;36m<module>\u001b[1;34m\u001b[0m\n\u001b[0;32m     27\u001b[0m \u001b[0mg\u001b[0m\u001b[1;33m.\u001b[0m\u001b[0mclose\u001b[0m\u001b[1;33m(\u001b[0m\u001b[1;33m)\u001b[0m\u001b[1;33m\u001b[0m\u001b[1;33m\u001b[0m\u001b[0m\n\u001b[0;32m     28\u001b[0m \u001b[0mg\u001b[0m \u001b[1;33m=\u001b[0m \u001b[0mopen\u001b[0m\u001b[1;33m(\u001b[0m\u001b[1;34m'grade.json'\u001b[0m\u001b[1;33m,\u001b[0m \u001b[1;34m'r'\u001b[0m\u001b[1;33m)\u001b[0m\u001b[1;33m\u001b[0m\u001b[1;33m\u001b[0m\u001b[0m\n\u001b[1;32m---> 29\u001b[1;33m \u001b[0mgrade\u001b[0m \u001b[1;33m=\u001b[0m \u001b[0mjson\u001b[0m\u001b[1;33m.\u001b[0m\u001b[0mloads\u001b[0m\u001b[1;33m(\u001b[0m\u001b[0mg\u001b[0m\u001b[1;33m)\u001b[0m\u001b[1;33m\u001b[0m\u001b[1;33m\u001b[0m\u001b[0m\n\u001b[0m",
      "\u001b[1;32m~\\anaconda3\\lib\\json\\__init__.py\u001b[0m in \u001b[0;36mloads\u001b[1;34m(s, cls, object_hook, parse_float, parse_int, parse_constant, object_pairs_hook, **kw)\u001b[0m\n\u001b[0;32m    337\u001b[0m     \u001b[1;32melse\u001b[0m\u001b[1;33m:\u001b[0m\u001b[1;33m\u001b[0m\u001b[1;33m\u001b[0m\u001b[0m\n\u001b[0;32m    338\u001b[0m         \u001b[1;32mif\u001b[0m \u001b[1;32mnot\u001b[0m \u001b[0misinstance\u001b[0m\u001b[1;33m(\u001b[0m\u001b[0ms\u001b[0m\u001b[1;33m,\u001b[0m \u001b[1;33m(\u001b[0m\u001b[0mbytes\u001b[0m\u001b[1;33m,\u001b[0m \u001b[0mbytearray\u001b[0m\u001b[1;33m)\u001b[0m\u001b[1;33m)\u001b[0m\u001b[1;33m:\u001b[0m\u001b[1;33m\u001b[0m\u001b[1;33m\u001b[0m\u001b[0m\n\u001b[1;32m--> 339\u001b[1;33m             raise TypeError(f'the JSON object must be str, bytes or bytearray, '\n\u001b[0m\u001b[0;32m    340\u001b[0m                             f'not {s.__class__.__name__}')\n\u001b[0;32m    341\u001b[0m         \u001b[0ms\u001b[0m \u001b[1;33m=\u001b[0m \u001b[0ms\u001b[0m\u001b[1;33m.\u001b[0m\u001b[0mdecode\u001b[0m\u001b[1;33m(\u001b[0m\u001b[0mdetect_encoding\u001b[0m\u001b[1;33m(\u001b[0m\u001b[0ms\u001b[0m\u001b[1;33m)\u001b[0m\u001b[1;33m,\u001b[0m \u001b[1;34m'surrogatepass'\u001b[0m\u001b[1;33m)\u001b[0m\u001b[1;33m\u001b[0m\u001b[1;33m\u001b[0m\u001b[0m\n",
      "\u001b[1;31mTypeError\u001b[0m: the JSON object must be str, bytes or bytearray, not TextIOWrapper"
     ]
    }
   ],
   "source": [
    "import random, time\n",
    "word = ['cat', 'dog', 'fox', 'monkey', 'mouse', 'panda', 'frog', 'snake', 'wolf', 'apple', 'banana', 'strawberry']\n",
    "n = 1\n",
    "quiz = random.choice(word)\n",
    "input('시작!(enter)')\n",
    "start = time.time()\n",
    "while n <= 5:\n",
    "    print(f'{n}번')\n",
    "    print(quiz)\n",
    "    x = input()\n",
    "    if quiz == x:\n",
    "        print('통과!')\n",
    "        n += 1\n",
    "        quiz = random.choice(word)\n",
    "    else:\n",
    "        print('오타! 다시 도전!')\n",
    "print('5문제 다 맞혔습니다.')\n",
    "end = time.time()\n",
    "print(f'걸린시간:{end-start:.0f}초')\n",
    "time = end-start\n",
    "name = input('사용자 이름 : ')\n",
    "grade = {} #등수        \n",
    "grade[name] = int(time)\n",
    "grade\n",
    "g = open('grade.json', 'w')\n",
    "json.dumps(grade)\n",
    "g.close()\n",
    "g = open('grade.json', 'r')\n",
    "grade = json.loads(g)\n"
   ]
  },
  {
   "cell_type": "code",
   "execution_count": null,
   "id": "07a9904a-2bdb-4961-ba98-3ded4a2e0259",
   "metadata": {
    "tags": []
   },
   "outputs": [
    {
     "name": "stdin",
     "output_type": "stream",
     "text": [
      "\n",
      "1. 문제추가 2. 타자게임 3. 등수리스트 4. 종료하기 3\n"
     ]
    },
    {
     "name": "stdout",
     "output_type": "stream",
     "text": [
      "<등수리스트>\n",
      "1등 ccc 7.22초\n",
      "2등 bbb 7.67초\n",
      "3등 aaa 10.11초\n"
     ]
    }
   ],
   "source": [
    "###강사님\n",
    "import random, time, json\n",
    "\n",
    "#word = ['cat', 'dog', 'fox', 'monkey', 'mouse', 'panda', 'frog', 'snake', 'wolf' ]\n",
    "#rank = {'aaa' : 10.111}\n",
    "\n",
    "with open('word.json', 'r') as f:\n",
    "    word = json.load(f)\n",
    "with open('rank.json', 'r') as f:\n",
    "    rank = json.load(f)\n",
    "\n",
    "while True:\n",
    "    menu = input('''\n",
    "1. 문제추가 2. 타자게임 3. 등수리스트 4. 종료하기''')\n",
    "    \n",
    "    if menu == '1':\n",
    "        while True:\n",
    "            quiz = input('추가할 단어를 입력(종료:0) >>> ')\n",
    "            while quiz in word :\n",
    "                quiz = input('중복된 단어입니다. 다시 입력(종료:0) >>> ')\n",
    "            if quiz == '0':\n",
    "                break\n",
    "            word.append(quiz)\n",
    "            print(word)\n",
    "        with open('word.json', 'w') as f:\n",
    "            json.dump(word,f)\n",
    "    \n",
    "    elif menu == '2':\n",
    "        n = 1\n",
    "        quiz = random.choice(word)\n",
    "        input('시작!(enter)')\n",
    "        start = time.time()\n",
    "        while n <= 5:\n",
    "            print(f'{n}번')\n",
    "            print(quiz)\n",
    "            x = input()\n",
    "            if quiz == x:\n",
    "                print('통과!')\n",
    "                n += 1\n",
    "                quiz = random.choice(word)\n",
    "            else:\n",
    "                print('오타! 다시 도전!')\n",
    "        print('5문제 다 맞혔습니다.')\n",
    "        end = time.time()\n",
    "        print(f'걸린시간:{end-start:.0f}초')\n",
    "        name = input('사용자명을 입력하세요 >>> ')\n",
    "        while name in rank:\n",
    "            name = input('사용자명이 중복됩니다.다른 이름을 입력하세요 >>> ')\n",
    "        rank[name] = end-start\n",
    "        print(rank)\n",
    "        \n",
    "    elif menu == '3':\n",
    "        print('<등수리스트>')\n",
    "        ranklist = sorted(rank.items(), key = lambda x:x[1])\n",
    "        for index, item in enumerate(ranklist):\n",
    "            print(f'{index+1}등 {item[0]} {item[1]:.2f}초')\n",
    "    elif menu == '4':\n",
    "        print('프로그램을 종료합니다.')\n",
    "        with open('rank.json', 'w') as f: #open과 close를 합친 간단한 형태, close 따로 안해도 됨\n",
    "            json.dump(rank, f)\n",
    "        break\n",
    "    else :\n",
    "        print('메뉴선택을 잘못하셨습니다.')\n",
    "    "
   ]
  },
  {
   "cell_type": "code",
   "execution_count": 140,
   "id": "13279b14-11a5-4010-b8f7-6116a7b60f1c",
   "metadata": {},
   "outputs": [
    {
     "data": {
      "text/plain": [
       "[('aaa', 10.111), ('bbb', 7.6670331954956055), ('ccc', 7.219334602355957)]"
      ]
     },
     "execution_count": 140,
     "metadata": {},
     "output_type": "execute_result"
    }
   ],
   "source": [
    "sorted(rank.items())"
   ]
  },
  {
   "cell_type": "code",
   "execution_count": null,
   "id": "50ca69e7-de24-4f28-9895-d894a9b769c4",
   "metadata": {},
   "outputs": [],
   "source": []
  }
 ],
 "metadata": {
  "kernelspec": {
   "display_name": "Python 3 (ipykernel)",
   "language": "python",
   "name": "python3"
  },
  "language_info": {
   "codemirror_mode": {
    "name": "ipython",
    "version": 3
   },
   "file_extension": ".py",
   "mimetype": "text/x-python",
   "name": "python",
   "nbconvert_exporter": "python",
   "pygments_lexer": "ipython3",
   "version": "3.9.7"
  }
 },
 "nbformat": 4,
 "nbformat_minor": 5
}
