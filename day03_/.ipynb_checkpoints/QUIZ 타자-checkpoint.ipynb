{
 "cells": [
  {
   "cell_type": "markdown",
   "id": "c653fdd3-5f3b-456a-b3e7-6dfcb1cd2b21",
   "metadata": {},
   "source": [
    "QUIZ 5 <타자게임>"
   ]
  },
  {
   "cell_type": "raw",
   "id": "3cb8af3e-0e5e-407b-8e60-0ed8322f3cd3",
   "metadata": {},
   "source": [
    "타자게임\n",
    "- 데이터는 word = ['cat', 'dog', 'fox', 'monkey', 'mouse', 'panda', 'frog', 'snake', 'wolf']\n",
    "- 문제는 총 5문제가 나옵니다.\n",
    "- 나온 문제는 맞힐 때까지 계속됩니다.\n",
    "- 문제를 맞히면 다음 문제가 나옵니다.\n",
    "- 걸린 시간을 보여줍니다."
   ]
  },
  {
   "cell_type": "code",
   "execution_count": 1,
   "id": "75c2f93e-615d-4d73-b17f-43775dfbba2b",
   "metadata": {},
   "outputs": [],
   "source": [
    "import random"
   ]
  },
  {
   "cell_type": "code",
   "execution_count": 2,
   "id": "d1d36082-2c57-442b-8583-136baba4a6da",
   "metadata": {},
   "outputs": [],
   "source": [
    "word = ['cat', 'dog', 'fox', 'monkey', 'mouse', 'panda', 'frog', 'snake', 'wolf', 'apple', 'banana', 'strawberry']"
   ]
  },
  {
   "cell_type": "code",
   "execution_count": 17,
   "id": "3f11b841-f84a-4112-a71a-a8f824716bce",
   "metadata": {},
   "outputs": [
    {
     "data": {
      "text/plain": [
       "'wolf'"
      ]
     },
     "execution_count": 17,
     "metadata": {},
     "output_type": "execute_result"
    }
   ],
   "source": [
    "random.choice(word)"
   ]
  },
  {
   "cell_type": "code",
   "execution_count": 51,
   "id": "e112fafa-621c-497e-a2a5-04ad384dfa48",
   "metadata": {},
   "outputs": [
    {
     "data": {
      "text/plain": [
       "'panda'"
      ]
     },
     "execution_count": 51,
     "metadata": {},
     "output_type": "execute_result"
    }
   ],
   "source": [
    "word[random.randint(0, len(word)-1)]"
   ]
  },
  {
   "cell_type": "code",
   "execution_count": 68,
   "id": "c20456da-61ee-4cd9-ac40-52adbfb4d3b3",
   "metadata": {},
   "outputs": [
    {
     "name": "stdin",
     "output_type": "stream",
     "text": [
      "시작!(enter) \n"
     ]
    },
    {
     "name": "stdout",
     "output_type": "stream",
     "text": [
      "Q1 :  strawberry\n"
     ]
    },
    {
     "name": "stdin",
     "output_type": "stream",
     "text": [
      "A :  strawberry\n"
     ]
    },
    {
     "name": "stdout",
     "output_type": "stream",
     "text": [
      "정답입니다.\n",
      "Q2 :  dog\n"
     ]
    },
    {
     "name": "stdin",
     "output_type": "stream",
     "text": [
      "A :  og\n",
      "틀렸습니다. 다시 입력하세요:  dgo\n",
      "틀렸습니다. 다시 입력하세요:  dog\n"
     ]
    },
    {
     "name": "stdout",
     "output_type": "stream",
     "text": [
      "정답입니다.\n",
      "Q3 :  snake\n"
     ]
    },
    {
     "name": "stdin",
     "output_type": "stream",
     "text": [
      "A :  snake\n"
     ]
    },
    {
     "name": "stdout",
     "output_type": "stream",
     "text": [
      "정답입니다.\n",
      "Q4 :  banana\n"
     ]
    },
    {
     "name": "stdin",
     "output_type": "stream",
     "text": [
      "A :  banana\n"
     ]
    },
    {
     "name": "stdout",
     "output_type": "stream",
     "text": [
      "정답입니다.\n",
      "Q5 :  mouse\n"
     ]
    },
    {
     "name": "stdin",
     "output_type": "stream",
     "text": [
      "A :  mouse\n"
     ]
    },
    {
     "name": "stdout",
     "output_type": "stream",
     "text": [
      "정답입니다.\n",
      "완료되었습니다.\n",
      "걸린시간:10초\n"
     ]
    }
   ],
   "source": [
    "##나\n",
    "import random, time\n",
    "word = ['cat', 'dog', 'fox', 'monkey', 'mouse', 'panda', 'frog', 'snake', 'wolf', 'apple', 'banana', 'strawberry']\n",
    "input('시작!(enter)')\n",
    "start = time.time()\n",
    "for i in range(1, 6):\n",
    "    Q = random.choice(word)\n",
    "    print('Q%d : '%i, Q)\n",
    "    A = input('A : ')\n",
    "    while Q != A:\n",
    "        A = input('틀렸습니다. 다시 입력하세요: ')\n",
    "    if Q == A:\n",
    "        print('정답입니다.')\n",
    "print('완료되었습니다.')\n",
    "end = time.time()\n",
    "print(f'걸린시간:{end-start:.0f}초')"
   ]
  },
  {
   "cell_type": "code",
   "execution_count": 64,
   "id": "25d32d78-23b7-4df7-aa47-9334861f84ff",
   "metadata": {},
   "outputs": [
    {
     "name": "stdout",
     "output_type": "stream",
     "text": [
      "Q1.000000\n",
      "Q2.000000\n",
      "Q3.000000\n",
      "Q4.000000\n",
      "Q5.000000\n"
     ]
    }
   ],
   "source": [
    "for i in range(1,6):\n",
    "    print('Q%f'%(i))"
   ]
  },
  {
   "cell_type": "code",
   "execution_count": 67,
   "id": "a080e28e-7ab6-4d16-8418-ea3a1aa09bf3",
   "metadata": {},
   "outputs": [
    {
     "name": "stdin",
     "output_type": "stream",
     "text": [
      "시작!(enter) \n"
     ]
    },
    {
     "name": "stdout",
     "output_type": "stream",
     "text": [
      "1번\n",
      "mouse\n"
     ]
    },
    {
     "name": "stdin",
     "output_type": "stream",
     "text": [
      " mouse\n"
     ]
    },
    {
     "name": "stdout",
     "output_type": "stream",
     "text": [
      "통과!\n",
      "2번\n",
      "cat\n"
     ]
    },
    {
     "name": "stdin",
     "output_type": "stream",
     "text": [
      " cat\n"
     ]
    },
    {
     "name": "stdout",
     "output_type": "stream",
     "text": [
      "통과!\n",
      "3번\n",
      "fox\n"
     ]
    },
    {
     "name": "stdin",
     "output_type": "stream",
     "text": [
      " fx\n"
     ]
    },
    {
     "name": "stdout",
     "output_type": "stream",
     "text": [
      "오타! 다시 도전!\n",
      "3번\n",
      "fox\n"
     ]
    },
    {
     "name": "stdin",
     "output_type": "stream",
     "text": [
      " fox\n"
     ]
    },
    {
     "name": "stdout",
     "output_type": "stream",
     "text": [
      "통과!\n",
      "4번\n",
      "cat\n"
     ]
    },
    {
     "name": "stdin",
     "output_type": "stream",
     "text": [
      " cat\n"
     ]
    },
    {
     "name": "stdout",
     "output_type": "stream",
     "text": [
      "통과!\n",
      "5번\n",
      "dog\n"
     ]
    },
    {
     "name": "stdin",
     "output_type": "stream",
     "text": [
      " dog\n"
     ]
    },
    {
     "name": "stdout",
     "output_type": "stream",
     "text": [
      "통과!\n",
      "5문제 다 맞혔습니다.\n",
      "걸린시간:11초\n"
     ]
    }
   ],
   "source": [
    "###강사님\n",
    "import random, time\n",
    "word = ['cat', 'dog', 'fox', 'monkey', 'mouse', 'panda', 'frog', 'snake', 'wolf', 'apple', 'banana', 'strawberry']\n",
    "n = 1\n",
    "quiz = random.choice(word)\n",
    "input('시작!(enter)')\n",
    "start = time.time()\n",
    "while n <= 5:\n",
    "    print(f'{n}번')\n",
    "    print(quiz)\n",
    "    x = input()\n",
    "    if quiz == x:\n",
    "        print('통과!')\n",
    "        n += 1\n",
    "        quiz = random.choice(word)\n",
    "    else:\n",
    "        print('오타! 다시 도전!')\n",
    "print('5문제 다 맞혔습니다.')\n",
    "end = time.time()\n",
    "print(f'걸린시간:{end-start:.0f}초')"
   ]
  },
  {
   "cell_type": "markdown",
   "id": "84a52ab9-a3ab-4323-872a-f5ee5848e901",
   "metadata": {},
   "source": [
    "QUIZ 06 저장"
   ]
  },
  {
   "cell_type": "raw",
   "id": "fd83711f-3ab8-4c7d-bf40-4849553e017d",
   "metadata": {},
   "source": [
    "앞의 타자 게임을 활용\n",
    "- 1. 문제추가 2. 타자게임 3. 등수리스트 4. 종료하기\n",
    "- 문제추가 후 데이터는 파일 저장\n",
    "- 문제추가는 단어를 입력받아서 중복되지 않게 추가\n",
    "- 타자게임은 시간을 체크하고, 걸린시간을 사용자명과 함께 저장합니다. (딕셔너리로 저장 : 등수데이터)\n",
    "- 등수리스트는 걸린 시간이 적은 순서대로 정렬해서 출력합니다.\n",
    "- 종료하기는 등수데이터를 저장하고 진행합니다.\n",
    "- 프로그램이 시작될 때 문제와 등수정보를 읽어옵니다."
   ]
  },
  {
   "cell_type": "code",
   "execution_count": 74,
   "id": "b64b36be-2b05-47d2-9ff3-837a6a2d2271",
   "metadata": {},
   "outputs": [
    {
     "name": "stdin",
     "output_type": "stream",
     "text": [
      "무엇을 하시겠습니까?\n",
      "    1. 문제추가 2. 타자게임 3. 등수리스트보기 4. 종료하기 4\n"
     ]
    },
    {
     "name": "stdout",
     "output_type": "stream",
     "text": [
      "프로그램을 종료합니다.\n"
     ]
    }
   ],
   "source": [
    "import random, time, json\n",
    "word = ['cat', 'dog', 'fox', 'monkey', 'mouse', 'panda', 'frog', 'snake', 'wolf', 'apple', 'banana', 'strawberry']\n",
    "\n",
    "while True:\n",
    "    x = input('''무엇을 하시겠습니까?\n",
    "    1. 문제추가 2. 타자게임 3. 등수리스트보기 4. 종료하기''')\n",
    "    if x == '1' :\n",
    "        pass\n",
    "    elif x == '2' :\n",
    "        pass\n",
    "    elif x == '3' :\n",
    "        pass\n",
    "    elif x == '4' :\n",
    "        print('프로그램을 종료합니다.')\n",
    "        break"
   ]
  },
  {
   "cell_type": "code",
   "execution_count": null,
   "id": "c774e907-fcbb-4bd0-bdb9-4f9d9c296ff5",
   "metadata": {},
   "outputs": [],
   "source": [
    "f = open('menu.json', 'w')\n",
    "        json.dump(menu, f)\n",
    "        f.close()"
   ]
  }
 ],
 "metadata": {
  "kernelspec": {
   "display_name": "Python 3 (ipykernel)",
   "language": "python",
   "name": "python3"
  },
  "language_info": {
   "codemirror_mode": {
    "name": "ipython",
    "version": 3
   },
   "file_extension": ".py",
   "mimetype": "text/x-python",
   "name": "python",
   "nbconvert_exporter": "python",
   "pygments_lexer": "ipython3",
   "version": "3.9.7"
  }
 },
 "nbformat": 4,
 "nbformat_minor": 5
}
