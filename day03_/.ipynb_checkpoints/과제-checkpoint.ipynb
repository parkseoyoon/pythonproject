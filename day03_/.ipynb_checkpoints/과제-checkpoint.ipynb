{
 "cells": [
  {
   "cell_type": "raw",
   "id": "9f595596-e291-4ca0-95b5-6ab1dff7cd28",
   "metadata": {},
   "source": [
    "<졸업자가진단 프로그램>\n",
    "총 이수학점 130\n",
    "1. 강의추가{'강의명': 학점}\n",
    " -종료할 때까지 계속 추가하기\n",
    "2. 강의수정\n",
    " - 강의목록 보여주기\n",
    " - 이수학점 수정하기\n",
    "3. 강의삭제\n",
    " - 강의목록 보여주기\n",
    " - 있는 강의 중 입력된 강의 삭제 del\n",
    "4. 현재 이수학점 -> 졸업가능여부 알려주기\n",
    " - 현재 총 이수학점 계산\n",
    " - 130점 이상이면 졸업가능, 미만이면 졸업불가\n",
    "5. 프로그램 종료\n",
    " - json 저장\n"
   ]
  },
  {
   "cell_type": "code",
   "execution_count": 43,
   "id": "ea9d4104-fd72-4f63-8bfe-0b677cded35a",
   "metadata": {},
   "outputs": [
    {
     "ename": "KeyboardInterrupt",
     "evalue": "Interrupted by user",
     "output_type": "error",
     "traceback": [
      "\u001b[1;31m---------------------------------------------------------------------------\u001b[0m",
      "\u001b[1;31mKeyboardInterrupt\u001b[0m                         Traceback (most recent call last)",
      "\u001b[1;32m~\\AppData\\Local\\Temp/ipykernel_11488/3758868375.py\u001b[0m in \u001b[0;36m<module>\u001b[1;34m\u001b[0m\n\u001b[0;32m      2\u001b[0m \u001b[0mgraduated\u001b[0m \u001b[1;33m=\u001b[0m \u001b[1;33m{\u001b[0m\u001b[1;34m'파이썬'\u001b[0m \u001b[1;33m:\u001b[0m \u001b[1;36m3\u001b[0m\u001b[1;33m}\u001b[0m\u001b[1;33m\u001b[0m\u001b[1;33m\u001b[0m\u001b[0m\n\u001b[0;32m      3\u001b[0m \u001b[1;32mwhile\u001b[0m \u001b[1;32mTrue\u001b[0m\u001b[1;33m:\u001b[0m\u001b[1;33m\u001b[0m\u001b[1;33m\u001b[0m\u001b[0m\n\u001b[1;32m----> 4\u001b[1;33m     menu = input('''<졸업자가진단 프로그램>\n\u001b[0m\u001b[0;32m      5\u001b[0m     1. 강의추가 2. 강의수정 3. 강의삭제 4. 졸업가능여부 5. 프로그램 종료''')\n\u001b[0;32m      6\u001b[0m \u001b[1;33m\u001b[0m\u001b[0m\n",
      "\u001b[1;32m~\\anaconda3\\lib\\site-packages\\ipykernel\\kernelbase.py\u001b[0m in \u001b[0;36mraw_input\u001b[1;34m(self, prompt)\u001b[0m\n\u001b[0;32m   1004\u001b[0m                 \u001b[1;34m\"raw_input was called, but this frontend does not support input requests.\"\u001b[0m\u001b[1;33m\u001b[0m\u001b[1;33m\u001b[0m\u001b[0m\n\u001b[0;32m   1005\u001b[0m             )\n\u001b[1;32m-> 1006\u001b[1;33m         return self._input_request(\n\u001b[0m\u001b[0;32m   1007\u001b[0m             \u001b[0mstr\u001b[0m\u001b[1;33m(\u001b[0m\u001b[0mprompt\u001b[0m\u001b[1;33m)\u001b[0m\u001b[1;33m,\u001b[0m\u001b[1;33m\u001b[0m\u001b[1;33m\u001b[0m\u001b[0m\n\u001b[0;32m   1008\u001b[0m             \u001b[0mself\u001b[0m\u001b[1;33m.\u001b[0m\u001b[0m_parent_ident\u001b[0m\u001b[1;33m[\u001b[0m\u001b[1;34m\"shell\"\u001b[0m\u001b[1;33m]\u001b[0m\u001b[1;33m,\u001b[0m\u001b[1;33m\u001b[0m\u001b[1;33m\u001b[0m\u001b[0m\n",
      "\u001b[1;32m~\\anaconda3\\lib\\site-packages\\ipykernel\\kernelbase.py\u001b[0m in \u001b[0;36m_input_request\u001b[1;34m(self, prompt, ident, parent, password)\u001b[0m\n\u001b[0;32m   1049\u001b[0m             \u001b[1;32mexcept\u001b[0m \u001b[0mKeyboardInterrupt\u001b[0m\u001b[1;33m:\u001b[0m\u001b[1;33m\u001b[0m\u001b[1;33m\u001b[0m\u001b[0m\n\u001b[0;32m   1050\u001b[0m                 \u001b[1;31m# re-raise KeyboardInterrupt, to truncate traceback\u001b[0m\u001b[1;33m\u001b[0m\u001b[1;33m\u001b[0m\u001b[0m\n\u001b[1;32m-> 1051\u001b[1;33m                 \u001b[1;32mraise\u001b[0m \u001b[0mKeyboardInterrupt\u001b[0m\u001b[1;33m(\u001b[0m\u001b[1;34m\"Interrupted by user\"\u001b[0m\u001b[1;33m)\u001b[0m \u001b[1;32mfrom\u001b[0m \u001b[1;32mNone\u001b[0m\u001b[1;33m\u001b[0m\u001b[1;33m\u001b[0m\u001b[0m\n\u001b[0m\u001b[0;32m   1052\u001b[0m             \u001b[1;32mexcept\u001b[0m \u001b[0mException\u001b[0m\u001b[1;33m:\u001b[0m\u001b[1;33m\u001b[0m\u001b[1;33m\u001b[0m\u001b[0m\n\u001b[0;32m   1053\u001b[0m                 \u001b[0mself\u001b[0m\u001b[1;33m.\u001b[0m\u001b[0mlog\u001b[0m\u001b[1;33m.\u001b[0m\u001b[0mwarning\u001b[0m\u001b[1;33m(\u001b[0m\u001b[1;34m\"Invalid Message:\"\u001b[0m\u001b[1;33m,\u001b[0m \u001b[0mexc_info\u001b[0m\u001b[1;33m=\u001b[0m\u001b[1;32mTrue\u001b[0m\u001b[1;33m)\u001b[0m\u001b[1;33m\u001b[0m\u001b[1;33m\u001b[0m\u001b[0m\n",
      "\u001b[1;31mKeyboardInterrupt\u001b[0m: Interrupted by user"
     ]
    }
   ],
   "source": [
    "import json\n",
    "graduated = {'파이썬' : 3}\n",
    "while True:\n",
    "    menu = input('''<졸업자가진단 프로그램>\n",
    "    1. 강의추가 2. 강의수정 3. 강의삭제 4. 졸업가능여부 5. 프로그램 종료''')\n",
    "    \n",
    "    if menu == '1':\n",
    "        print('<수강완료한 강의목록>', graduated)\n",
    "        while True:\n",
    "            name = input('추가할 강의명을 입력하세요(종료:0) : ')\n",
    "            credit = 'a'\n",
    "            while name in graduated.keys() :\n",
    "                name = input('중복된 강의입니다. 다시 입력(종료:0) : ')\n",
    "            if name == '0':\n",
    "                break\n",
    "            while not credit.isdecimal():\n",
    "                credit = input('입력한 강의의 이수학점을 입력하세요 : ')\n",
    "            graduated[name] = int(credit) \n",
    "            print(credit,'학점의', name, '가 추가되었습니다.')\n",
    "    \n",
    "    elif menu == '2':\n",
    "        print('<수강완료한 강의목록>', graduated)\n",
    "        name = ''\n",
    "        while not name in graduated.keys():\n",
    "            name = input('수정할 강의명을 입력하세요 : ')\n",
    "        credit = 'a'\n",
    "        while not credit.isdecimal():\n",
    "            credit = input('선택한 강의의 수정할 이수학점을 입력하세요 : ')\n",
    "        graduated[name] = int(credit)\n",
    "        print('수정되었습니다')    \n",
    "    \n",
    "    elif menu == '3':\n",
    "        print('<수강완료한 강의목록>', graduated)\n",
    "        name = ''\n",
    "        while name not in graduated.keys():\n",
    "            name = input('삭제할 강의명을 입력하세요 : ')\n",
    "        del graduated[name]\n",
    "        \n",
    "    elif menu == '4':\n",
    "        total = sum(graduated.values())\n",
    "        if total >= 130:\n",
    "            print('축하합니다! 졸업가능')\n",
    "        else:\n",
    "            print('졸업불가!', 130-total, '학점 더 이수하셔야 합니다.')\n",
    "    \n",
    "    elif menu == '5':\n",
    "        print('프로그램을 종료합니다.')\n",
    "        break\n",
    "        \n",
    "                  \n",
    "    else :\n",
    "        print('잘못 입력하셨습니다.')"
   ]
  },
  {
   "cell_type": "code",
   "execution_count": null,
   "id": "2b880cd9-4155-4a8e-a321-b780c55be403",
   "metadata": {},
   "outputs": [],
   "source": [
    "with open('graduated.json', 'w') as f:\n",
    "    json.dump(graduated,f)"
   ]
  },
  {
   "cell_type": "code",
   "execution_count": 16,
   "id": "ef9ebd13-68f9-48c0-9204-d882c51c01ec",
   "metadata": {},
   "outputs": [
    {
     "data": {
      "text/plain": [
       "6"
      ]
     },
     "execution_count": 16,
     "metadata": {},
     "output_type": "execute_result"
    }
   ],
   "source": [
    "A = {'a':1, 'b':2, 'c':3}\n",
    "sum(A.values())"
   ]
  },
  {
   "cell_type": "code",
   "execution_count": 48,
   "id": "417853c7-47b3-46d3-9781-0e14e40a8a88",
   "metadata": {},
   "outputs": [
    {
     "ename": "SyntaxError",
     "evalue": "invalid syntax (Temp/ipykernel_11488/3667692896.py, line 62)",
     "output_type": "error",
     "traceback": [
      "\u001b[1;36m  File \u001b[1;32m\"C:\\Users\\Admin\\AppData\\Local\\Temp/ipykernel_11488/3667692896.py\"\u001b[1;36m, line \u001b[1;32m62\u001b[0m\n\u001b[1;33m    ~\u001b[0m\n\u001b[1;37m     ^\u001b[0m\n\u001b[1;31mSyntaxError\u001b[0m\u001b[1;31m:\u001b[0m invalid syntax\n"
     ]
    }
   ],
   "source": [
    "import json\n",
    "#graduated = {'파이썬' : 3}\n",
    "with open('graduated.json', 'r') as f:\n",
    "    graduated = json.load(f)\n",
    "\n",
    "while True:\n",
    "    menu = input('''<졸업자가진단 프로그램>\n",
    "    1. 강의추가 2. 강의수정 3. 강의삭제 4. 수강한 강의목록 5. 졸업가능여부 6. 프로그램 종료''')\n",
    "    \n",
    "    if menu == '1':\n",
    "        print('<수강완료한 강의목록>', graduated)\n",
    "        while True:\n",
    "            name = input('추가할 강의명을 입력하세요(종료:0) : ')\n",
    "            credit = 'a'\n",
    "            while name in graduated.keys() :\n",
    "                name = input('중복된 강의입니다. 다시 입력(종료:0) : ')\n",
    "            if name == '0':\n",
    "                break\n",
    "            while not credit.isdecimal():\n",
    "                credit = input('입력한 강의의 이수학점을 입력하세요 : ')\n",
    "            graduated[name] = int(credit) \n",
    "            print(credit,'학점의', name, '가 추가되었습니다.')\n",
    "    \n",
    "    elif menu == '2':\n",
    "        print('<수강완료한 강의목록>', graduated)\n",
    "        name = ''\n",
    "        while not name in graduated.keys():\n",
    "            name = input('수정할 강의명을 입력하세요 : ')\n",
    "        credit = 'a'\n",
    "        while not credit.isdecimal():\n",
    "            credit = input('선택한 강의의 수정할 이수학점을 입력하세요 : ')\n",
    "        graduated[name] = int(credit)\n",
    "        print('수정되었습니다')    \n",
    "    \n",
    "    elif menu == '3':\n",
    "        print('<수강완료한 강의목록>', graduated)\n",
    "        name = ''\n",
    "        while name not in graduated.keys():\n",
    "            name = input('삭제할 강의명을 입력하세요 : ')\n",
    "        del graduated[name]\n",
    "    \n",
    "    elif menu == '4':\n",
    "        print('<수강완료한 강의목록>')\n",
    "        for item in sorted(graduated.items()):\n",
    "            print(f'{item[0]}:{item[1]}')\n",
    "        \n",
    "    elif menu == '5':\n",
    "        total = sum(graduated.values())\n",
    "        if total >= 130:\n",
    "            print('축하합니다! 졸업가능')\n",
    "        else:\n",
    "            print('졸업불가! 현재 총', total, '학점을 이수하셨습니다.\\n', 130-total, '학점 더 이수하셔야 합니다.')\n",
    "    \n",
    "    elif menu == '6':\n",
    "        print('프로그램을 종료합니다.')\n",
    "        with open('graduated.json', 'w') as f:\n",
    "            json.dump(graduated,f)\n",
    "        break\n",
    "                    \n",
    "    else :\n",
    "        print('잘못 입력하셨습니다.')"
   ]
  },
  {
   "cell_type": "code",
   "execution_count": null,
   "id": "f4df469e-c25c-4dac-b968-d4de9ef3abbb",
   "metadata": {},
   "outputs": [],
   "source": [
    "print('<수강완료한 강의목록>')\n",
    "for item in sorted(graduated.items()):\n",
    "print(f'{graduated[0]}:{graduated[1]}"
   ]
  }
 ],
 "metadata": {
  "kernelspec": {
   "display_name": "Python 3 (ipykernel)",
   "language": "python",
   "name": "python3"
  },
  "language_info": {
   "codemirror_mode": {
    "name": "ipython",
    "version": 3
   },
   "file_extension": ".py",
   "mimetype": "text/x-python",
   "name": "python",
   "nbconvert_exporter": "python",
   "pygments_lexer": "ipython3",
   "version": "3.9.7"
  }
 },
 "nbformat": 4,
 "nbformat_minor": 5
}
